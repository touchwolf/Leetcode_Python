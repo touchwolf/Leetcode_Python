{
 "cells": [
  {
   "cell_type": "markdown",
   "metadata": {},
   "source": [
    "写出一个递归函数，调用DFS解决\n",
    "像这种求符合要求解 类似题目[还有](http://www.cnblogs.com/grandyang/p/4419259.html)"
   ]
  },
  {
   "cell_type": "code",
   "execution_count": 1,
   "metadata": {},
   "outputs": [],
   "source": [
    "class Solution:\n",
    "    def combinationSum(self, candidates, target):\n",
    "        \"\"\"\n",
    "        :type candidates: List[int]\n",
    "        :type target: int\n",
    "        :rtype: List[List[int]]\n",
    "        \"\"\"\n",
    "        self.resList = []\n",
    "        candidates = sorted(candidates)\n",
    "        self.dfs(candidates,[],target,0)\n",
    "        return self.resList\n",
    "    def dfs(self, candidates, sublist, target, last):\n",
    "        if target == 0:\n",
    "            self.resList.append(sublist[:])\n",
    "        if target< candidates[0]:\n",
    "            return \n",
    "        for n in candidates:\n",
    "            if n > target:\n",
    "                return\n",
    "            if n < last:\n",
    "                continue\n",
    "            sublist.append(n)\n",
    "            self.dfs(candidates,sublist,target - n, n)\n",
    "            sublist.pop()"
   ]
  }
 ],
 "metadata": {
  "kernelspec": {
   "display_name": "Python 3",
   "language": "python",
   "name": "python3"
  },
  "language_info": {
   "codemirror_mode": {
    "name": "ipython",
    "version": 3
   },
   "file_extension": ".py",
   "mimetype": "text/x-python",
   "name": "python",
   "nbconvert_exporter": "python",
   "pygments_lexer": "ipython3",
   "version": "3.6.7"
  }
 },
 "nbformat": 4,
 "nbformat_minor": 2
}
