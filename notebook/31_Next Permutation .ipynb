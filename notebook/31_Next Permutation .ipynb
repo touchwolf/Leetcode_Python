{
 "cells": [
  {
   "cell_type": "markdown",
   "metadata": {},
   "source": [
    "数学的排列组合问题，将排列中的数字重新排列成字典序中的下一个更大的排列。如果这样的重新排列是不可能的，它必须重新排列为可能的最低顺序（即升序排序）。重排必须在原地，不分配额外的内存。 \n",
    "eg:123-132-213-231-312-321(将123进行排列组合，保证下一个比前一个大，”下一个函数”需要输入排列组合，输出下一个) \n",
    "思路：1）由于下一个数比上一个数大，因此需要从后往前扫描，找到递增的位置设为元素i,j(i小于j) \n",
    "2）由于下一个数虽然大于上一个数，且最接近上一个数，因此找到元素i，在i元素后面找到最接近i且大于i的元素k。由于i后面的元素都是降序排列的，只需要从后往前扫描找到第一个比i大的元素即可 \n",
    "3）找到将i和k交换位置，然后将k后面的元素递增排序 \n",
    "4）找不到，则将全部元素递增排序"
   ]
  },
  {
   "cell_type": "code",
   "execution_count": 1,
   "metadata": {},
   "outputs": [],
   "source": [
    "class Solution(object):\n",
    "    def nextPermutation(self, nums):\n",
    "        if len(nums)<=1:\n",
    "            return \n",
    "        for i in range(len(nums)-2,-1,-1):\n",
    "            if nums[i]<nums[i+1]:\n",
    "                for k in range(len(nums)-1,i,-1):\n",
    "                    if nums[k]>nums[i]:\n",
    "                        nums[i],nums[k]=nums[k],nums[i]\n",
    "                        nums[i+1:]=sorted(nums[i+1:])\n",
    "                        break\n",
    "                break\n",
    "            else:\n",
    "                if i==0:\n",
    "                    nums.sort()"
   ]
  },
  {
   "cell_type": "markdown",
   "metadata": {},
   "source": [
    "[ref](https://blog.csdn.net/qq_28119401/article/details/52972616)"
   ]
  }
 ],
 "metadata": {
  "kernelspec": {
   "display_name": "Python 3",
   "language": "python",
   "name": "python3"
  },
  "language_info": {
   "codemirror_mode": {
    "name": "ipython",
    "version": 3
   },
   "file_extension": ".py",
   "mimetype": "text/x-python",
   "name": "python",
   "nbconvert_exporter": "python",
   "pygments_lexer": "ipython3",
   "version": "3.6.7"
  }
 },
 "nbformat": 4,
 "nbformat_minor": 2
}
