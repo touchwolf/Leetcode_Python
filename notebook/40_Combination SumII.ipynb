{
 "cells": [
  {
   "cell_type": "markdown",
   "metadata": {},
   "source": [
    "和前一题一样需要用到深度优先搜索(DFS)，不过需要改变递归函数中的[索引值](https://blog.csdn.net/zl87758539/article/details/51693549?utm_source=blogxgwz3)"
   ]
  },
  {
   "cell_type": "code",
   "execution_count": 1,
   "metadata": {},
   "outputs": [],
   "source": [
    "class Solution(object):\n",
    "    def combinationSum2(self, candidates, target):\n",
    "        \"\"\"\n",
    "        :type candidates: List[int]\n",
    "        :type target: int\n",
    "        :rtype: List[List[int]]\n",
    "        \"\"\"\n",
    "        self.resList = []\n",
    "        fl = [0]*len(candidates)\n",
    "        candidates = sorted(candidates)#排个序不影响复杂度\n",
    "        self.dfs(candidates,[],target,fl,0)\n",
    "        return self.resList\n",
    "    def dfs(self, candidates, sublist, target, flaglist, last):\n",
    "        if target == 0:\n",
    "            self.resList.append(sublist[:])\n",
    "        if target< candidates[0]:\n",
    "            return \n",
    "        l = None #为了防止重复的比如两个1，那在一层递归只处理一次\n",
    "        for m in range(len(candidates)):\n",
    "            n = candidates[m] \n",
    "            if n > target:\n",
    "                return\n",
    "            if n < last or flaglist[m]==1 or l ==n: \n",
    "                #三种情况：1.因为是从小到大，所以n开始要从上一个数以后，\n",
    "                #2.如果已经使用过，那就继续\n",
    "                #3.如果在这一层递归的时候 比如有两个1， 那之前做一次1的时候，第二次就不处理了，不然会重复\n",
    "                continue\n",
    "            sublist.append(n)\n",
    "            flaglist[m] = 1 #记录是否 用过的\n",
    "            self.dfs(candidates,sublist,target - n,flaglist, n)\n",
    "            flaglist[m] = 0\n",
    "            l = n\n",
    "            sublist.pop()"
   ]
  },
  {
   "cell_type": "code",
   "execution_count": 2,
   "metadata": {},
   "outputs": [],
   "source": [
    "class Solution:\n",
    "    # @param candidates, a list of integers\n",
    "    # @param target, integer\n",
    "    # @return a list of lists of integers\n",
    "    def DFS(self, candidates, target, start, valuelist):\n",
    "        length = len(candidates)\n",
    "        if target == 0 and valuelist not in Solution.ret: return Solution.ret.append(valuelist)\n",
    "        for i in range(start, length):\n",
    "            if target < candidates[i]:\n",
    "                return\n",
    "            self.DFS(candidates, target - candidates[i], i + 1, valuelist + [candidates[i]])\n",
    "    \n",
    "    def combinationSum2(self, candidates, target):\n",
    "        candidates.sort()\n",
    "        Solution.ret = []\n",
    "        self.DFS(candidates, target, 0, [])\n",
    "        return Solution.ret"
   ]
  }
 ],
 "metadata": {
  "kernelspec": {
   "display_name": "Python 3",
   "language": "python",
   "name": "python3"
  },
  "language_info": {
   "codemirror_mode": {
    "name": "ipython",
    "version": 3
   },
   "file_extension": ".py",
   "mimetype": "text/x-python",
   "name": "python",
   "nbconvert_exporter": "python",
   "pygments_lexer": "ipython3",
   "version": "3.6.7"
  }
 },
 "nbformat": 4,
 "nbformat_minor": 2
}
