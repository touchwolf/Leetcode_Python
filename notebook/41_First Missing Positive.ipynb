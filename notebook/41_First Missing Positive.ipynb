{
 "cells": [
  {
   "cell_type": "markdown",
   "metadata": {},
   "source": [
    "O(n)的时间复杂度，O(1)的空间复杂度"
   ]
  },
  {
   "cell_type": "code",
   "execution_count": 1,
   "metadata": {},
   "outputs": [],
   "source": [
    "class Solution:\n",
    "    def firstMissingPositive(self, nums):\n",
    "        \"\"\"\n",
    "        :type nums: List[int]\n",
    "        :rtype: int\n",
    "        \"\"\"\n",
    "        result = 1\n",
    "        if len(nums) == 0:\n",
    "            return result\n",
    "        else:\n",
    "            for key in sorted(nums):\n",
    "                if key == result:\n",
    "                    result = result+1\n",
    "            return result"
   ]
  },
  {
   "cell_type": "code",
   "execution_count": 2,
   "metadata": {},
   "outputs": [],
   "source": [
    "class Solution(object):\n",
    "    def firstMissingPositive(self, nums):\n",
    "        \"\"\"\n",
    "        :type nums: List[int]\n",
    "        :rtype: int\n",
    "        \"\"\"\n",
    "        if nums==[]:\n",
    "            return 1\n",
    "        \n",
    "        n = len(nums)\n",
    "        hashed = [0]*n\n",
    "        for i in range(n):\n",
    "            if nums[i]>0 and nums[i]<=n:\n",
    "                hashed[nums[i]-1]+=1\n",
    "        \n",
    "        for i in range(n):\n",
    "            if hashed[i]==0:\n",
    "                return i+1\n",
    "        return n+1\n"
   ]
  },
  {
   "cell_type": "raw",
   "metadata": {},
   "source": [
    "class Solution:\n",
    "    def firstMissingPositive(self, nums):\n",
    "        \"\"\"\n",
    "        :type nums: List[int]\n",
    "        :rtype: int\n",
    "        \"\"\"\n",
    "        n = len(nums)\n",
    "        for i in range(n):\n",
    "            if(nums[i] == i+1): continue\n",
    "            while(nums[i]>0 and nums[i]<=n and nums[nums[i]-1] != nums[i]):\n",
    "                nums[i], nums[nums[i]-1] = nums[nums[i]-1], nums[i]\n",
    "        for i in range(n):\n",
    "            if(nums[i] != i+1):\n",
    "                return i+1\n",
    "        return n+1\n",
    "#############################\n",
    "#C++解法可以，PythonTLE\n",
    "class Solution {\n",
    "public:\n",
    "    int firstMissingPositive(vector<int>& nums) {\n",
    "        int n = nums.size();\n",
    "        for (int i = 0; i < n; ++i) {\n",
    "            while (nums[i] > 0 && nums[i] <= n && nums[nums[i] - 1] != nums[i]) {\n",
    "                swap(nums[i], nums[nums[i] - 1]);\n",
    "            }\n",
    "        }\n",
    "        for (int i = 0; i < n; ++i) {\n",
    "            if (nums[i] != i + 1) return i + 1;\n",
    "        }\n",
    "        return n + 1;\n",
    "    }\n",
    "};"
   ]
  }
 ],
 "metadata": {
  "kernelspec": {
   "display_name": "Python 3",
   "language": "python",
   "name": "python3"
  },
  "language_info": {
   "codemirror_mode": {
    "name": "ipython",
    "version": 3
   },
   "file_extension": ".py",
   "mimetype": "text/x-python",
   "name": "python",
   "nbconvert_exporter": "python",
   "pygments_lexer": "ipython3",
   "version": "3.6.7"
  }
 },
 "nbformat": 4,
 "nbformat_minor": 2
}
