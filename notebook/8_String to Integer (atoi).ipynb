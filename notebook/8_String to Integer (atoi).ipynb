{
 "cells": [
  {
   "cell_type": "code",
   "execution_count": null,
   "metadata": {},
   "outputs": [],
   "source": [
    "class Solution:\n",
    "    def myAtoi(self, str):\n",
    "        \"\"\"\n",
    "        :type str: str\n",
    "        :rtype: int\n",
    "        \"\"\"\n",
    "        str = str.strip()\n",
    "        if len(str) == 0:\n",
    "            return 0\n",
    "        number,flag = 0,1\n",
    "        if str[0] == '-':\n",
    "            str = str[1:]\n",
    "            flag = -1\n",
    "        elif str[0] == '+':#这里不用elif的话，使用'-'测试会报错\n",
    "            str = str[1:]\n",
    "        for c in str:\n",
    "            if c>= '0' and c<='9':\n",
    "                number = 10*number + ord(c) - ord('0')\n",
    "            else:\n",
    "                break\n",
    "        number = flag*number\n",
    "        number = number if number <= 2**31-1 else:2**31-1\n",
    "        number = number if number >= -2**31 else -2**31"
   ]
  },
  {
   "cell_type": "code",
   "execution_count": 1,
   "metadata": {},
   "outputs": [],
   "source": [
    "class Solution(object):\n",
    "    def myAtoi(self, str):\n",
    "        \"\"\"\n",
    "        :type str: str\n",
    "        :rtype: int\n",
    "        \"\"\"\n",
    "        str = str.strip()\n",
    "        if len(str) == 0:\n",
    "            return 0\n",
    "        number, flag = 0, 1\n",
    "        if str[0] == '-':\n",
    "            str = str[1:]\n",
    "            flag = -1\n",
    "        elif str[0] == '+':\n",
    "            str = str[1:]\n",
    "        for c in str:\n",
    "            if c >= '0' and c <= '9':\n",
    "                number = 10*number + ord(c) - ord('0')\n",
    "            else:\n",
    "                break\n",
    "        number = flag * number\n",
    "        number = number if number <= 2147483647 else 2147483647\n",
    "        number = number if number >= -2147483648 else -2147483648\n",
    "        return number"
   ]
  },
  {
   "cell_type": "markdown",
   "metadata": {},
   "source": [
    "> 第二个速度快一些"
   ]
  },
  {
   "cell_type": "code",
   "execution_count": 2,
   "metadata": {},
   "outputs": [],
   "source": [
    "class Solution(object):\n",
    "    def myAtoi(self, str):\n",
    "        \"\"\"\n",
    "        :type str: str\n",
    "        :rtype: int\n",
    "        \"\"\"\n",
    "        str = str.strip()\n",
    "        try:\n",
    "            res = re.search('(^[\\+\\-]?\\d+)', str).group()\n",
    "            res = int(res)\n",
    "            res = res if res <= 2147483647 else 2147483647\n",
    "            res = res if res >= -2147483648 else -2147483648\n",
    "        except:\n",
    "            res = 0\n",
    "        return res"
   ]
  },
  {
   "cell_type": "markdown",
   "metadata": {},
   "source": [
    "> 使用re模块，正则表达式解题\n",
    ">     \n",
    "> 正则表达式[学习](https://www.cnblogs.com/huxi/archive/2010/07/04/1771073.html)"
   ]
  },
  {
   "cell_type": "code",
   "execution_count": null,
   "metadata": {},
   "outputs": [],
   "source": []
  }
 ],
 "metadata": {
  "kernelspec": {
   "display_name": "Python 3",
   "language": "python",
   "name": "python3"
  },
  "language_info": {
   "codemirror_mode": {
    "name": "ipython",
    "version": 3
   },
   "file_extension": ".py",
   "mimetype": "text/x-python",
   "name": "python",
   "nbconvert_exporter": "python",
   "pygments_lexer": "ipython3",
   "version": "3.6.4"
  }
 },
 "nbformat": 4,
 "nbformat_minor": 2
}
