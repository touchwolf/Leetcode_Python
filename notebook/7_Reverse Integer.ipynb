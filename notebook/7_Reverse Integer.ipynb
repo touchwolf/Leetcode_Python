{
 "cells": [
  {
   "cell_type": "code",
   "execution_count": 1,
   "metadata": {},
   "outputs": [],
   "source": [
    "class Solution:\n",
    "    # @return an integer\n",
    "    def reverse(self, x):\n",
    "        answer = 0\n",
    "        sign = 1 if x > 0 else -1\n",
    "        x = abs(x)\n",
    "        while x != 0:\n",
    "            answer = answer * 10 + x % 10\n",
    "            x //= 10\n",
    "        return sign*answer if answer <=2**31-1 and answer > -2**31 else 0"
   ]
  },
  {
   "cell_type": "markdown",
   "metadata": {},
   "source": [
    " 不考虑政府的写法如下，会因为python 负数 取余出错\n",
    "> #### python中负数取余遵循\n",
    "\n",
    ">a % b = a - (a // b) * b\n"
   ]
  },
  {
   "cell_type": "code",
   "execution_count": 3,
   "metadata": {},
   "outputs": [],
   "source": [
    "class Solution:\n",
    "    # @return an integer\n",
    "    def reverse(self, x):\n",
    "        answer = 0\n",
    "        #sign = 1 if x > 0 else -1\n",
    "        #x = abs(x)\n",
    "        while x != 0:\n",
    "            answer = answer * 10 + x % 10\n",
    "            x //= 10\n",
    "        return answer if answer <=2**31-1 and answer > -2**31 else 0"
   ]
  },
  {
   "cell_type": "code",
   "execution_count": null,
   "metadata": {},
   "outputs": [],
   "source": []
  }
 ],
 "metadata": {
  "kernelspec": {
   "display_name": "Python 3",
   "language": "python",
   "name": "python3"
  },
  "language_info": {
   "codemirror_mode": {
    "name": "ipython",
    "version": 3
   },
   "file_extension": ".py",
   "mimetype": "text/x-python",
   "name": "python",
   "nbconvert_exporter": "python",
   "pygments_lexer": "ipython3",
   "version": "3.6.4"
  }
 },
 "nbformat": 4,
 "nbformat_minor": 2
}
