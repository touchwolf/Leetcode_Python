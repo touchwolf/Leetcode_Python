{
 "cells": [
  {
   "cell_type": "code",
   "execution_count": 1,
   "metadata": {},
   "outputs": [],
   "source": [
    "# Definition for singly-linked list.\n",
    "# class ListNode:\n",
    "#     def __init__(self, x):\n",
    "#         self.val = x\n",
    "#         self.next = None\n",
    "\n",
    "class Solution:\n",
    "    def swapPairs(self, head):\n",
    "        \"\"\"\n",
    "        :type head: ListNode\n",
    "        :rtype: ListNode\n",
    "        \"\"\"\n",
    "        p = ListNode(0)\n",
    "        q = p\n",
    "        p.next = head\n",
    "        while(p.next and p.next.next):\n",
    "            t = p.next.next\n",
    "            p.next.next = t.next\n",
    "            t.next = p.next\n",
    "            p.next = t\n",
    "            p = t.next#核心是从链表两个一组中的的最后被指向的部分开始操作\n",
    "        return q.next"
   ]
  },
  {
   "cell_type": "markdown",
   "metadata": {},
   "source": [
    "   >+ 迭代↑\n",
    "   >+ 递归↓实际上利用了回溯的思想，递归遍历到链表末尾，然后先交换末尾两个，然后依次往前交换"
   ]
  },
  {
   "cell_type": "code",
   "execution_count": 2,
   "metadata": {},
   "outputs": [],
   "source": [
    "# Definition for singly-linked list.\n",
    "# class ListNode:\n",
    "#     def __init__(self, x):\n",
    "#         self.val = x\n",
    "#         self.next = None\n",
    "\n",
    "class Solution:\n",
    "    def swapPairs(self, head):\n",
    "        \"\"\"\n",
    "        :type head: ListNode\n",
    "        :rtype: ListNode\n",
    "        \"\"\"\n",
    "        if (not head or not head.next): return head\n",
    "        t = head.next\n",
    "        head.next = Solution.swapPairs(self,head.next.next)\n",
    "        t.next = head\n",
    "        return t"
   ]
  }
 ],
 "metadata": {
  "kernelspec": {
   "display_name": "Python 3",
   "language": "python",
   "name": "python3"
  },
  "language_info": {
   "codemirror_mode": {
    "name": "ipython",
    "version": 3
   },
   "file_extension": ".py",
   "mimetype": "text/x-python",
   "name": "python",
   "nbconvert_exporter": "python",
   "pygments_lexer": "ipython3",
   "version": "3.6.7"
  }
 },
 "nbformat": 4,
 "nbformat_minor": 2
}
