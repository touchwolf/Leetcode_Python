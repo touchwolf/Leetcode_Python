{
 "cells": [
  {
   "cell_type": "markdown",
   "metadata": {},
   "source": [
    ">+ 使用双循环，和3SUM一个思路，虽没有TLE但是也花费了1708ms,超越了6.01%的用户XD"
   ]
  },
  {
   "cell_type": "code",
   "execution_count": null,
   "metadata": {},
   "outputs": [],
   "source": [
    "class Solution:\n",
    "    # @return a list of lists of length 4, [[val1,val2,val3,val4]]\n",
    "    def fourSum(self, num, target):\n",
    "        num.sort(); res=[]\n",
    "        for i in range(len(num)):\n",
    "            if i>0 and num[i]==num[i-1]: continue\n",
    "            for j in range(i+1,len(num)):\n",
    "                if j>i+1 and num[j]==num[j-1]: continue\n",
    "                l=j+1; r=len(num)-1\n",
    "                while l<r:\n",
    "                    sum=num[i]+num[j]+num[l]+num[r]\n",
    "                    if sum>target:\n",
    "                        r-=1\n",
    "                    elif sum<target:\n",
    "                        l+=1\n",
    "                    elif l>j+1 and num[l]==num[l-1]:\n",
    "                        l+=1\n",
    "                    elif r<len(num)-1 and num[r]==num[r+1]:\n",
    "                        r-=1\n",
    "                    else:\n",
    "                        res.append([num[i],num[j],num[l],num[r]])\n",
    "                        l+=1; r-=1\n",
    "        return res"
   ]
  },
  {
   "cell_type": "markdown",
   "metadata": {},
   "source": [
    ">+ 使用hash map的思路，参照 1_TwoSum"
   ]
  },
  {
   "cell_type": "code",
   "execution_count": 2,
   "metadata": {},
   "outputs": [],
   "source": [
    "class Solution:\n",
    "    def fourSum(self, nums, target):\n",
    "        \"\"\"\n",
    "        :type nums: List[int]\n",
    "        :type target: int\n",
    "        :rtype: List[List[int]]\n",
    "        \"\"\"\n",
    "        res, dicti = set(), {}\n",
    "        numLen = len(nums)\n",
    "        nums.sort()\n",
    "        for i in range(numLen):\n",
    "            for j in range(i+1, numLen):\n",
    "                key = nums[i] + nums[j]\n",
    "                if key not in dicti.keys():\n",
    "                    dicti[key] = [(i,j)]\n",
    "                else:\n",
    "                    dicti[key].append((i,j))\n",
    "        for i in range(numLen):\n",
    "            for j in range(i+1, numLen-2):\n",
    "                exp = target - nums[i] -nums[j]\n",
    "                if exp in dicti.keys():\n",
    "                    for tmpIndex in dicti[exp]:\n",
    "                        if tmpIndex[0] > j:\n",
    "                            res.add((nums[i], nums[j], nums[tmpIndex[0]], nums[tmpIndex[1]]))\n",
    "        return [list(i) for i in res]"
   ]
  }
 ],
 "metadata": {
  "kernelspec": {
   "display_name": "Python 3",
   "language": "python",
   "name": "python3"
  },
  "language_info": {
   "codemirror_mode": {
    "name": "ipython",
    "version": 3
   },
   "file_extension": ".py",
   "mimetype": "text/x-python",
   "name": "python",
   "nbconvert_exporter": "python",
   "pygments_lexer": "ipython3",
   "version": "3.6.7"
  }
 },
 "nbformat": 4,
 "nbformat_minor": 2
}
