{
 "cells": [
  {
   "cell_type": "markdown",
   "metadata": {},
   "source": [
    ">+ 使用双循环，和3SUM一个思路，虽没有TLE但是也花费了1708ms,超越了6.01%的用户XD"
   ]
  },
  {
   "cell_type": "code",
   "execution_count": null,
   "metadata": {},
   "outputs": [],
   "source": [
    "class Solution:\n",
    "    # @return a list of lists of length 4, [[val1,val2,val3,val4]]\n",
    "    def fourSum(self, num, target):\n",
    "        num.sort(); res=[]\n",
    "        for i in range(len(num)):\n",
    "            if i>0 and num[i]==num[i-1]: continue\n",
    "            for j in range(i+1,len(num)):\n",
    "                if j>i+1 and num[j]==num[j-1]: continue\n",
    "                l=j+1; r=len(num)-1\n",
    "                while l<r:\n",
    "                    sum=num[i]+num[j]+num[l]+num[r]\n",
    "                    if sum>target:\n",
    "                        r-=1\n",
    "                    elif sum<target:\n",
    "                        l+=1\n",
    "                    elif l>j+1 and num[l]==num[l-1]:\n",
    "                        l+=1\n",
    "                    elif r<len(num)-1 and num[r]==num[r+1]:\n",
    "                        r-=1\n",
    "                    else:\n",
    "                        res.append([num[i],num[j],num[l],num[r]])\n",
    "                        l+=1; r-=1\n",
    "        return res"
   ]
  },
  {
   "cell_type": "markdown",
   "metadata": {},
   "source": [
    ">+ 使用hash map的思路，参照 1_TwoSum\n",
    ">+ 哈希表的思路可以空间换时间，以增加空间复杂度的代价来降低时间复杂度。首先建立一个字典dict，字典的key值为数组中每两个元素的和，每个key对应的value为这两个元素的下标组成的元组，元组不一定是唯一的。如对于num=[1,2,3,2]来说，dict={3:[(0,1),(0,3)], 4:[(0,2),(1,3)], 5:[(1,2),(2,3)]}。这样就可以检查target-key这个值在不在dict的key值中，如果target-key在dict中并且下标符合要求，那么就找到了这样的一组解。\n",
    "\n",
    "需要去重的话，这里选用set()类型的数据结构，即无序无重复元素集。最后将每个找出来的解(set()类型)转换成list类型输出即可"
   ]
  },
  {
   "cell_type": "code",
   "execution_count": 2,
   "metadata": {},
   "outputs": [],
   "source": [
    "class Solution:\n",
    "    def fourSum(self, nums, target):\n",
    "        \"\"\"\n",
    "        :type nums: List[int]\n",
    "        :type target: int\n",
    "        :rtype: List[List[int]]\n",
    "        \"\"\"\n",
    "        res, dicti = set(), {}\n",
    "        numLen = len(nums)\n",
    "        nums.sort()\n",
    "        for i in range(numLen):\n",
    "            for j in range(i+1, numLen):\n",
    "                key = nums[i] + nums[j]\n",
    "                if key not in dicti.keys():\n",
    "                    dicti[key] = [(i,j)]\n",
    "                else:\n",
    "                    dicti[key].append((i,j))\n",
    "        for i in range(numLen):\n",
    "            for j in range(i+1, numLen-2):\n",
    "                exp = target - nums[i] -nums[j]\n",
    "                if exp in dicti.keys():\n",
    "                    for tmpIndex in dicti[exp]:\n",
    "                        if tmpIndex[0] > j:\n",
    "                            res.add((nums[i], nums[j], nums[tmpIndex[0]], nums[tmpIndex[1]]))\n",
    "        return [list(i) for i in res]"
   ]
  },
  {
   "cell_type": "markdown",
   "metadata": {},
   "source": [
    "优化：可以用一些判断来加速，比如枚举第一个数的时候 \n",
    "nums[i] + nums[i + 1] + nums[i + 2] + nums[i + 3] > target: break \n",
    "这是当前能凑齐的最小的4个数，比target后面都不用做了 \n",
    "nums[i] + nums[n – 3] + nums[n – 2] + nums[n – 1] < target: continue \n",
    "这是当前凑齐的最大的4个数，比target小，说明第一个数不够大\n"
   ]
  }
 ],
 "metadata": {
  "kernelspec": {
   "display_name": "Python 3",
   "language": "python",
   "name": "python3"
  },
  "language_info": {
   "codemirror_mode": {
    "name": "ipython",
    "version": 3
   },
   "file_extension": ".py",
   "mimetype": "text/x-python",
   "name": "python",
   "nbconvert_exporter": "python",
   "pygments_lexer": "ipython3",
   "version": "3.6.7"
  }
 },
 "nbformat": 4,
 "nbformat_minor": 2
}
