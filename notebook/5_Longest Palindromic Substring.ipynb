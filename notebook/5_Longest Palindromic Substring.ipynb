{
 "cells": [
  {
   "cell_type": "code",
   "execution_count": 3,
   "metadata": {},
   "outputs": [],
   "source": [
    "class Solution(object):\n",
    "    def longestPalindrome(self,s):\n",
    "        \"\"\"\n",
    "        type s :str\n",
    "        type : str\n",
    "        \"\"\"\n",
    "        def palindrome(s,left,right):\n",
    "            while left>=0 and right<len(s) and s[left]==s[right]:\n",
    "                #注意边界条件，不能产生超出列表的索引\n",
    "                left -= 1\n",
    "                right +=1\n",
    "            return s[left+1:right]\n",
    "        ans=\"\"#置空\n",
    "        for i in range(len(s)):\n",
    "            pal1 = palindrome(s,i,i)\n",
    "            if len(pal1)>len(ans) : ans=pal1\n",
    "            pal2 = palindrome(s,i,i+1)\n",
    "            if len(pal2)>len(ans) : ans=pal2\n",
    "        return ans\n",
    "\n",
    "    "
   ]
  },
  {
   "cell_type": "markdown",
   "metadata": {},
   "source": [
    "Ref[四种解法](https://blog.csdn.net/asd136912/article/details/78987624)"
   ]
  },
  {
   "cell_type": "code",
   "execution_count": null,
   "metadata": {},
   "outputs": [],
   "source": []
  }
 ],
 "metadata": {
  "kernelspec": {
   "display_name": "Python 3",
   "language": "python",
   "name": "python3"
  },
  "language_info": {
   "codemirror_mode": {
    "name": "ipython",
    "version": 3
   },
   "file_extension": ".py",
   "mimetype": "text/x-python",
   "name": "python",
   "nbconvert_exporter": "python",
   "pygments_lexer": "ipython3",
   "version": "3.6.4"
  }
 },
 "nbformat": 4,
 "nbformat_minor": 2
}
