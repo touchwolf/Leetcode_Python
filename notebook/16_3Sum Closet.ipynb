{
 "cells": [
  {
   "cell_type": "code",
   "execution_count": 1,
   "metadata": {},
   "outputs": [],
   "source": [
    "class Solution:\n",
    "    def threeSumClosest(self, nums, target):\n",
    "        \"\"\"\n",
    "        :type nums: List[int]\n",
    "        :type target: int\n",
    "        :rtype: int\n",
    "        \"\"\"\n",
    "        nums.sort()\n",
    "        midn = 1000000\n",
    "        res = 0\n",
    "        for i in range(len(nums)):\n",
    "            start, end = i + 1, len(nums) - 1\n",
    "            while start < end:\n",
    "                sumn = nums[i] + nums[start] + nums[end]\n",
    "                if abs(sumn-target)<midn :\n",
    "                    midn = abs(sumn-target)#中间值做记录，保证差的绝对值最小\n",
    "                    res = sumn\n",
    "                if sumn == target:\n",
    "                    return sumn\n",
    "                elif sumn<target:\n",
    "                    start += 1\n",
    "                else:\n",
    "                    end -= 1\n",
    "        return res"
   ]
  }
 ],
 "metadata": {
  "kernelspec": {
   "display_name": "Python 3",
   "language": "python",
   "name": "python3"
  },
  "language_info": {
   "codemirror_mode": {
    "name": "ipython",
    "version": 3
   },
   "file_extension": ".py",
   "mimetype": "text/x-python",
   "name": "python",
   "nbconvert_exporter": "python",
   "pygments_lexer": "ipython3",
   "version": "3.6.7"
  }
 },
 "nbformat": 4,
 "nbformat_minor": 2
}
