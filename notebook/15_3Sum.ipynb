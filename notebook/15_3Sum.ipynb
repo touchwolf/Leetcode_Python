{
 "cells": [
  {
   "cell_type": "code",
   "execution_count": 1,
   "metadata": {},
   "outputs": [],
   "source": [
    "class Solution:\n",
    "    def threeSum(self, nums):\n",
    "        \"\"\"\n",
    "        :type nums: List[int]\n",
    "        :rtype: List[List[int]]\n",
    "        \"\"\"\n",
    "        num.sort()\n",
    "        res = []\n",
    "        for i in range(len(num)-2):\n",
    "            if i ==0 or num[i] > num[i-1]:\n",
    "                left = i+1; right = len(num) -1\n",
    "                while left<right:\n",
    "                    if num[left] + num[right] == -num[i]:\n",
    "                        res.append([num[i],num[left],num[right]])\n",
    "                        left += 1; right -= 1\n",
    "                        while left < right and num[left] == num[left-1]: left += 1\n",
    "                        while left < right and num[right] == num[right+1]: right -= 1\n",
    "                    elif num[left] + num[right] < -num[i]:\n",
    "                        while left < right:\n",
    "                            left += 1\n",
    "                            if num[left] > num[left-1]: break#防止重复数字\n",
    "                    else:\n",
    "                        while left < right:\n",
    "                            right -= 1\n",
    "                            if num[right] < num[right+1]: break#为什么是r+1,l-1?\n",
    "        return res\n",
    "    #该方法TLE"
   ]
  },
  {
   "cell_type": "code",
   "execution_count": 2,
   "metadata": {},
   "outputs": [],
   "source": [
    "class Solution(object):\n",
    "    def threeSum(self, nums):\n",
    "        \"\"\"\n",
    "        :type nums: List[int]\n",
    "        :rtype: List[List[int]]\n",
    "        \"\"\"\n",
    "        res = []\n",
    "        nums.sort()\n",
    "        for i in range(0, len(nums)):\n",
    "            if i > 0 and nums[i] == nums[i - 1]:\n",
    "                continue#在该处判断了如果全为0的情况，i=0处理该结果\n",
    "            target = 0 - nums[i]\n",
    "            start, end = i + 1, len(nums) - 1\n",
    "            while start < end:\n",
    "                if nums[start] + nums[end] > target:\n",
    "                    end -= 1  \n",
    "                elif nums[start] + nums[end] < target:\n",
    "                    start += 1\n",
    "                else:\n",
    "                    res.append((nums[i], nums[start], nums[end]))\n",
    "                    end -= 1\n",
    "                    start += 1\n",
    "                    while start < end and nums[end] == nums[end + 1]:\n",
    "                        end -= 1\n",
    "                    while start < end and nums[start] == nums[start - 1]:\n",
    "                        start += 1\n",
    "        return res\n",
    "#双指针方法顺利通过"
   ]
  }
 ],
 "metadata": {
  "kernelspec": {
   "display_name": "Python 3",
   "language": "python",
   "name": "python3"
  },
  "language_info": {
   "codemirror_mode": {
    "name": "ipython",
    "version": 3
   },
   "file_extension": ".py",
   "mimetype": "text/x-python",
   "name": "python",
   "nbconvert_exporter": "python",
   "pygments_lexer": "ipython3",
   "version": "3.6.7"
  }
 },
 "nbformat": 4,
 "nbformat_minor": 2
}
