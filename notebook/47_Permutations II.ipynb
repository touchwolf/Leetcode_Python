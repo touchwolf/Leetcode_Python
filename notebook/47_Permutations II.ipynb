{
 "cells": [
  {
   "cell_type": "markdown",
   "metadata": {},
   "source": [
    "穷举所有的全排列，集合中可能有重复的元素，所以要考虑进去。　\n",
    "\n",
    "分两步：\n",
    "\n",
    "* 1 对集合进行排序。\n",
    "* 2 进行剪枝，如果元素重复，直接跳过这一元素，决策树的这一枝被剪掉。"
   ]
  },
  {
   "cell_type": "code",
   "execution_count": 2,
   "metadata": {},
   "outputs": [
    {
     "name": "stdout",
     "output_type": "stream",
     "text": [
      "[[1, 1, 1, 2], [1, 1, 2, 1], [1, 2, 1, 1], [2, 1, 1, 1]]\n"
     ]
    }
   ],
   "source": [
    "class Solution:\n",
    "    def permuteUnique(self, nums):\n",
    "        \"\"\"\n",
    "        :type nums: List[int]\n",
    "        :rtype: List[List[int]]\n",
    "        \"\"\"\n",
    "        if len(nums)==1: return [nums]\n",
    "        nums.sort()\n",
    "        res = []\n",
    "        previousNum = None\n",
    "        for i in range(len(nums)):\n",
    "            if nums[i] == previousNum: continue\n",
    "            previousNum = nums[i]\n",
    "            for j in self.permuteUnique(nums[:i]+nums[i+1:]):\n",
    "                res.append([nums[i]]+j)\n",
    "        return res\n",
    "    if __name__ == '__main__':\n",
    "        cl = Solution()\n",
    "        print(cl.permuteUnique([1,1,1,2]))"
   ]
  }
 ],
 "metadata": {
  "kernelspec": {
   "display_name": "Python 3",
   "language": "python",
   "name": "python3"
  },
  "language_info": {
   "codemirror_mode": {
    "name": "ipython",
    "version": 3
   },
   "file_extension": ".py",
   "mimetype": "text/x-python",
   "name": "python",
   "nbconvert_exporter": "python",
   "pygments_lexer": "ipython3",
   "version": "3.6.7"
  }
 },
 "nbformat": 4,
 "nbformat_minor": 2
}
