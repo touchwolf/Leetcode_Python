{
 "cells": [
  {
   "cell_type": "markdown",
   "metadata": {},
   "source": [
    "穷举一个集合的全排列"
   ]
  },
  {
   "cell_type": "code",
   "execution_count": 4,
   "metadata": {},
   "outputs": [
    {
     "name": "stdout",
     "output_type": "stream",
     "text": [
      "[[4, 5, 2], [4, 2, 5], [5, 4, 2], [5, 2, 4], [2, 4, 5], [2, 5, 4]]\n"
     ]
    }
   ],
   "source": [
    "class Solution:\n",
    "    # @param num, a list of integer\n",
    "    # @return a list of lists of integers\n",
    "    def permute(self, num):\n",
    "        #if len(num) == 0: return [] maybe not required\n",
    "        if len(num) == 1: return [num]\n",
    "        res = []\n",
    "        for i in range(len(num)):\n",
    "            for j in self.permute(num[:i] + num[i+1:]):\n",
    "                res.append([num[i]] + j)\n",
    "        return res\n",
    "if __name__ == '__main__':\n",
    "    c1 = Solution()\n",
    "    print(c1.permute([4,5,2]))"
   ]
  },
  {
   "cell_type": "markdown",
   "metadata": {},
   "source": [
    "递归实现阶乘"
   ]
  },
  {
   "cell_type": "code",
   "execution_count": 11,
   "metadata": {},
   "outputs": [
    {
     "data": {
      "text/plain": [
       "6"
      ]
     },
     "execution_count": 11,
     "metadata": {},
     "output_type": "execute_result"
    }
   ],
   "source": [
    "def test(num):\n",
    "    if num>1:\n",
    "        return num*test(num-1)\n",
    "    else:\n",
    "        return 1#(递归结束时的情况)\n",
    "test(3)"
   ]
  }
 ],
 "metadata": {
  "kernelspec": {
   "display_name": "Python 3",
   "language": "python",
   "name": "python3"
  },
  "language_info": {
   "codemirror_mode": {
    "name": "ipython",
    "version": 3
   },
   "file_extension": ".py",
   "mimetype": "text/x-python",
   "name": "python",
   "nbconvert_exporter": "python",
   "pygments_lexer": "ipython3",
   "version": "3.6.7"
  }
 },
 "nbformat": 4,
 "nbformat_minor": 2
}
