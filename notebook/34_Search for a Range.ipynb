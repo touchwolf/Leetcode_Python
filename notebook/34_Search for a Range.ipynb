{
 "cells": [
  {
   "cell_type": "markdown",
   "metadata": {},
   "source": [
    "二分法后\n",
    "在索引周围搜索并优化代码"
   ]
  },
  {
   "cell_type": "code",
   "execution_count": 2,
   "metadata": {},
   "outputs": [],
   "source": [
    "class Solution:\n",
    "    def searchRange(self, nums, target):\n",
    "        \"\"\"\n",
    "        :type nums: List[int]\n",
    "        :type target: int\n",
    "        :rtype: List[int]\n",
    "        \"\"\"\n",
    "        left, right = 0, len(nums) - 1\n",
    "        while left<= right:\n",
    "            mid = left + (right - left)//2 \n",
    "            if(nums[mid] < target):\n",
    "                left = mid + 1\n",
    "            elif(nums[mid] > target):\n",
    "                right = mid - 1\n",
    "            else:\n",
    "                index = [0,0]\n",
    "                if(nums[left]==target): index[0] = left\n",
    "                if(nums[right] == target): index[1] = right\n",
    "                for i in range(mid,right+1):\n",
    "                    if(nums[i] != target):\n",
    "                        index[1] = i - 1\n",
    "                        break\n",
    "                for i in range(mid,left-1,-1):\n",
    "                    if(nums[i] != target):\n",
    "                        index[0] = i+1\n",
    "                        break\n",
    "                return index\n",
    "        return[-1,-1]"
   ]
  },
  {
   "cell_type": "code",
   "execution_count": null,
   "metadata": {},
   "outputs": [],
   "source": [
    "class Solution:\n",
    "    def searchRange(self, nums, target):\n",
    "        \"\"\"\n",
    "        :type nums: List[int]\n",
    "        :type target: int\n",
    "        :rtype: List[int]\n",
    "        \"\"\"\n",
    "        length=len(nums);l=0;r=length-1;mid=0\n",
    "        res=[-1,-1]\n",
    "        while l<=r:\n",
    "            mid=(l+r)>>1;\n",
    "            if nums[mid]==target:break\n",
    "            elif nums[mid]>target:r=mid-1\n",
    "            else:l=mid+1\n",
    "        if l<=r:\n",
    "            l=mid-1\n",
    "            while l>=0 and nums[l]==nums[mid]:l-=1\n",
    "            r=mid+1\n",
    "            while r<length and nums[r]==nums[mid]:r+=1\n",
    "            res[0]=l+1;res[1]=r-1\n",
    "        return res\n"
   ]
  }
 ],
 "metadata": {
  "kernelspec": {
   "display_name": "Python 3",
   "language": "python",
   "name": "python3"
  },
  "language_info": {
   "codemirror_mode": {
    "name": "ipython",
    "version": 3
   },
   "file_extension": ".py",
   "mimetype": "text/x-python",
   "name": "python",
   "nbconvert_exporter": "python",
   "pygments_lexer": "ipython3",
   "version": "3.6.7"
  }
 },
 "nbformat": 4,
 "nbformat_minor": 2
}
