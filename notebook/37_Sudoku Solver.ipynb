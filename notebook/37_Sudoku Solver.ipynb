{
 "cells": [
  {
   "cell_type": "markdown",
   "metadata": {},
   "source": [
    "方法一：使用DFS深度优先搜索解决问题"
   ]
  },
  {
   "cell_type": "code",
   "execution_count": null,
   "metadata": {},
   "outputs": [],
   "source": [
    "class Solution:\n",
    "    def solveSudoku(self, board):\n",
    "        \"\"\"\n",
    "        :type board: List[List[str]]\n",
    "        :rtype: void Do not return anything, modify board in-place instead.\n",
    "        \"\"\"\n",
    "        def isValid(x,y):\n",
    "            tmp=board[x][y]; board[x][y]='D'#防止自身与自身相等的比较\n",
    "            for i in range(9):\n",
    "                if board[i][y]==tmp: return False\n",
    "            for i in range(9):\n",
    "                if board[x][i]==tmp: return False\n",
    "            for i in range(3):\n",
    "                for j in range(3):\n",
    "                    if board[(x//3)*3+i][(y//3)*3+j]==tmp: return False\n",
    "            board[x][y]=tmp\n",
    "            return True\n",
    "        def dfs(board):\n",
    "            for i in range(9):\n",
    "                for j in range(9):\n",
    "                    if board[i][j]=='.':\n",
    "                        for k in '123456789':\n",
    "                            board[i][j]=k\n",
    "                            if isValid(i,j) and dfs(board):\n",
    "                                return True\n",
    "                            board[i][j]='.'#直到找到有效的为止\n",
    "                        return False\n",
    "            return True\n",
    "        dfs(board)"
   ]
  }
 ],
 "metadata": {
  "kernelspec": {
   "display_name": "Python 3",
   "language": "python",
   "name": "python3"
  },
  "language_info": {
   "codemirror_mode": {
    "name": "ipython",
    "version": 3
   },
   "file_extension": ".py",
   "mimetype": "text/x-python",
   "name": "python",
   "nbconvert_exporter": "python",
   "pygments_lexer": "ipython3",
   "version": "3.6.7"
  }
 },
 "nbformat": 4,
 "nbformat_minor": 2
}
