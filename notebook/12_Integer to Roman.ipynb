{
 "cells": [
  {
   "cell_type": "markdown",
   "metadata": {},
   "source": [
    ">* 列出所有可能性\n",
    ">* 贪心算法\n",
    "\n",
    ">罗马数字转换的规则如下\n",
    "\n",
    "| 基本字符 | I | V | X | L | C | D | M |\n",
    "| :------| ------: | ------: || ------:| ------: | ------: || ------:| :------: | \n",
    "| 相应的阿拉伯数字为 | 1 | 5 | 10 | 50 | 100 | 500 | 1000 ||"
   ]
  },
  {
   "cell_type": "code",
   "execution_count": 3,
   "metadata": {},
   "outputs": [],
   "source": [
    "class Solution:\n",
    "    def intToRoman(self, num):\n",
    "        \"\"\"\n",
    "        :type num: int\n",
    "        :rtype: str\n",
    "        \"\"\"\n",
    "        v1=[\"\", \"M\", \"MM\", \"MMM\"]\n",
    "        v2=[\"\", \"C\", \"CC\", \"CCC\", \"CD\", \"D\", \"DC\", \"DCC\", \"DCCC\", \"CM\"]\n",
    "        v3=[\"\", \"X\", \"XX\", \"XXX\", \"XL\", \"L\", \"LX\", \"LXX\", \"LXXX\", \"XC\"]\n",
    "        v4=[\"\", \"I\", \"II\", \"III\", \"IV\", \"V\", \"VI\", \"VII\", \"VIII\", \"IX\"]\n",
    "        return v1[num //1000] + v2[(num % 1000) // 100] + v3[(num % 100) // 10] + v4[num % 10];"
   ]
  },
  {
   "cell_type": "code",
   "execution_count": 2,
   "metadata": {},
   "outputs": [],
   "source": [
    "class Solution:\n",
    "    # @return a string\n",
    "    def intToRoman(self, num):\n",
    "        values = [ 1000, 900, 500, 400, 100, 90, 50, 40, 10, 9, 5, 4, 1 ]\n",
    "        numerals = [ \"M\", \"CM\", \"D\", \"CD\", \"C\", \"XC\", \"L\", \"XL\", \"X\", \"IX\", \"V\", \"IV\", \"I\" ]\n",
    "        list = ''\n",
    "        for i in range(0, len(values)):\n",
    "            while num >= values[i]:\n",
    "                num -= values[i]\n",
    "                list += numerals[i]\n",
    "        return list"
   ]
  }
 ],
 "metadata": {
  "kernelspec": {
   "display_name": "Python 3",
   "language": "python",
   "name": "python3"
  },
  "language_info": {
   "codemirror_mode": {
    "name": "ipython",
    "version": 3
   },
   "file_extension": ".py",
   "mimetype": "text/x-python",
   "name": "python",
   "nbconvert_exporter": "python",
   "pygments_lexer": "ipython3",
   "version": "3.6.4"
  }
 },
 "nbformat": 4,
 "nbformat_minor": 2
}
