{
 "cells": [
  {
   "cell_type": "markdown",
   "metadata": {},
   "source": [
    "* 使用了时间复杂度为O(n^2)\n",
    "* 空间复杂度O(1),只占用1个变量"
   ]
  },
  {
   "cell_type": "code",
   "execution_count": null,
   "metadata": {},
   "outputs": [],
   "source": [
    "class Solution:\n",
    "    def maxProfit(self, prices: List[int]) -> int:\n",
    "        maxp = 0\n",
    "        for i in range(len(prices)):\n",
    "            for j in range(i+1, len(prices)):\n",
    "                maxp = max(prices[j]-prices[i], maxp)\n",
    "        return maxp"
   ]
  },
  {
   "cell_type": "markdown",
   "metadata": {},
   "source": [
    "* 使用了时间复杂度为O(N)，一次遍历\n",
    "* 空间复杂度为O(2)"
   ]
  },
  {
   "cell_type": "code",
   "execution_count": null,
   "metadata": {},
   "outputs": [],
   "source": [
    "class Solution:\n",
    "    def maxProfit(self, prices: List[int]) -> int:\n",
    "        maxp, minp = 0, 99999# minprice, maxprofit\n",
    "        for i in range(len(prices)):\n",
    "            minp = min(minp, prices[i])\n",
    "            maxp = max(maxp, prices[i] - minp)\n",
    "        return maxp"
   ]
  }
 ],
 "metadata": {
  "kernelspec": {
   "display_name": "Python 3",
   "language": "python",
   "name": "python3"
  },
  "language_info": {
   "codemirror_mode": {
    "name": "ipython",
    "version": 3
   },
   "file_extension": ".py",
   "mimetype": "text/x-python",
   "name": "python",
   "nbconvert_exporter": "python",
   "pygments_lexer": "ipython3",
   "version": "3.6.7"
  }
 },
 "nbformat": 4,
 "nbformat_minor": 2
}
