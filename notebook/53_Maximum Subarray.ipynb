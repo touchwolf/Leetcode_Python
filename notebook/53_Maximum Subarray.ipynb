{
 "cells": [
  {
   "cell_type": "markdown",
   "metadata": {},
   "source": [
    "* 遍历的下一个数字减去现在的数字值，如果小于0，则重新开始计数；否则一直累加，记录累加值并取最大"
   ]
  },
  {
   "cell_type": "code",
   "execution_count": null,
   "metadata": {},
   "outputs": [],
   "source": [
    "class Solution:\n",
    "    def maxSubArray(self, nums: 'List[int]') -> 'int':\n",
    "        # ret = nums[0]\n",
    "        # sums = 0\n",
    "        # for i in range(1, len(nums)):\n",
    "        #     sums = max(nums[i-1]+nums[i], nums[i])\n",
    "        #     nums[i] = sums\n",
    "        # return max(nums)\n",
    "        \n",
    "        onesum = 0\n",
    "        maxsum = nums[0]\n",
    "        for i in range(len(nums)):\n",
    "            onesum  += nums[i]\n",
    "            maxsum = max(maxsum, onesum)\n",
    "            if onesum<0:\n",
    "                onesum = 0\n",
    "        return maxsum"
   ]
  }
 ],
 "metadata": {
  "kernelspec": {
   "display_name": "Python 3",
   "language": "python",
   "name": "python3"
  },
  "language_info": {
   "codemirror_mode": {
    "name": "ipython",
    "version": 3
   },
   "file_extension": ".py",
   "mimetype": "text/x-python",
   "name": "python",
   "nbconvert_exporter": "python",
   "pygments_lexer": "ipython3",
   "version": "3.6.7"
  }
 },
 "nbformat": 4,
 "nbformat_minor": 2
}
