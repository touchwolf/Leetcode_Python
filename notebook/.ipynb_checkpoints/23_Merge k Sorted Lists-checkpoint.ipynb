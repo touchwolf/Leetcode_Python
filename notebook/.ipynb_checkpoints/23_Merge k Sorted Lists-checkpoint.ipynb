{
 "cells": [
  {
   "cell_type": "markdown",
   "metadata": {},
   "source": [
    "分治 & 堆排序"
   ]
  },
  {
   "cell_type": "code",
   "execution_count": 3,
   "metadata": {},
   "outputs": [],
   "source": [
    "import heapq\n",
    "class Solution(object):\n",
    "    def mergeKLists(self, lists):\n",
    "        \"\"\"\n",
    "        :type lists: List[ListNode]\n",
    "        :rtype: ListNode\n",
    "        \"\"\"\n",
    "        heap = []\n",
    "        for node in lists:\n",
    "            while node:\n",
    "                heapq.heappush(heap, node.val)\n",
    "                node = node.next\n",
    "\n",
    "        temp = ListNode(-1)\n",
    "        head = temp\n",
    "        while heap:\n",
    "            smallestNode_val = heapq.heappop(heap)\n",
    "            temp.next = ListNode(smallestNode_val)\n",
    "            temp = temp.next\n",
    "\n",
    "        return head.next\n"
   ]
  },
  {
   "cell_type": "markdown",
   "metadata": {},
   "source": [
    "利用二分法和递归的思想做K个链表合并"
   ]
  },
  {
   "cell_type": "code",
   "execution_count": 2,
   "metadata": {},
   "outputs": [],
   "source": [
    "class Solution:\n",
    "    # @param a list of ListNode\n",
    "    # @return a ListNode\n",
    "    def mergeKLists(self, lists):\n",
    "        if len(lists) == 0:\n",
    "            return None\n",
    "        if len(lists) == 1:\n",
    "            return lists[0]\n",
    " \n",
    "        mid = len(lists) // 2\n",
    "        left = self.mergeKLists(lists[:mid])\n",
    "        right = self.mergeKLists(lists[mid:])\n",
    " \n",
    "        # merge left and right\n",
    "        dummy = ListNode(0)\n",
    "        cur = dummy\n",
    "        while left or right:\n",
    "            if right == None or (left and left.val <= right.val):\n",
    "                cur.next = left\n",
    "                left = left.next\n",
    "            else:\n",
    "                cur.next = right\n",
    "                right = right.next\n",
    "            cur = cur.next\n",
    " \n",
    "        return dummy.next\n"
   ]
  },
  {
   "cell_type": "markdown",
   "metadata": {},
   "source": [
    "作弊方法↓"
   ]
  },
  {
   "cell_type": "code",
   "execution_count": 1,
   "metadata": {},
   "outputs": [],
   "source": [
    "# Definition for singly-linked list.\n",
    "# class ListNode:\n",
    "#     def __init__(self, x):\n",
    "#         self.val = x\n",
    "#         self.next = None\n",
    " \n",
    "class Solution:\n",
    "    def mergeKLists(self, lists):\n",
    "        \"\"\"\n",
    "        :type lists: List[ListNode]\n",
    "        :rtype: ListNode\n",
    "        \"\"\"\n",
    "        res = []\n",
    "        for i in lists:\n",
    "            while i :\n",
    "                res.append(i.val)\n",
    "                i  = i.next\n",
    "        if res == []:\n",
    "            return []\n",
    "        res.sort()\n",
    "        l =  ListNode(0)\n",
    "        first = l \n",
    "        while res:\n",
    "            l.next = ListNode(res.pop(0))\n",
    "            l = l.next\n",
    "        return first.next"
   ]
  },
  {
   "cell_type": "markdown",
   "metadata": {},
   "source": [
    "堆排序可参考[链接](https://blog.csdn.net/m0_37324740/article/details/80769702)"
   ]
  }
 ],
 "metadata": {
  "kernelspec": {
   "display_name": "Python 3",
   "language": "python",
   "name": "python3"
  },
  "language_info": {
   "codemirror_mode": {
    "name": "ipython",
    "version": 3
   },
   "file_extension": ".py",
   "mimetype": "text/x-python",
   "name": "python",
   "nbconvert_exporter": "python",
   "pygments_lexer": "ipython3",
   "version": "3.6.7"
  }
 },
 "nbformat": 4,
 "nbformat_minor": 2
}
