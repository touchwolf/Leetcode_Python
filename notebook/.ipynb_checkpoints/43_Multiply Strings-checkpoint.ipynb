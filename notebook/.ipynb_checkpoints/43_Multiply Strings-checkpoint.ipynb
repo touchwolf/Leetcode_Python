{
 "cells": [
  {
   "cell_type": "markdown",
   "metadata": {},
   "source": [
    "### 考察的是大数乘法，第一种是简单的数学"
   ]
  },
  {
   "cell_type": "code",
   "execution_count": 1,
   "metadata": {},
   "outputs": [],
   "source": [
    "class Solution:\n",
    "    def multiply(self, num1, num2):\n",
    "        \"\"\"\n",
    "        :type num1: str\n",
    "        :type num2: str\n",
    "        :rtype: str\n",
    "        \"\"\"\n",
    "        len1, len2 = len(num1), len(num2)\n",
    "        if len1 > len2: \n",
    "            num1, num2 = num2, num1\n",
    "            len1, len2 = len2, len1\n",
    "        ret, num2sum = 0, 0\n",
    "        for j in range(len2):\n",
    "            num2sum = int(num2[j]) + num2sum*10\n",
    "        for i in range(len1):\n",
    "            ret = int(num1[i])*num2sum +ret*10\n",
    "        return str(ret)"
   ]
  },
  {
   "cell_type": "markdown",
   "metadata": {},
   "source": [
    "大数乘法，即是说相乘的结果超出了基本类型的表示范围。所以这样的数不能直接做乘法运算"
   ]
  },
  {
   "cell_type": "code",
   "execution_count": null,
   "metadata": {},
   "outputs": [],
   "source": [
    "class Solution:\n",
    "    # @param num1, a string\n",
    "    # @param num2, a string\n",
    "    # @return a string\n",
    "    def multiply(self, num1, num2):\n",
    "        num1 = num1[::-1]; num2 = num2[::-1]#一定要反向，why?\n",
    "        arr = [0 for i in range(len(num1)+len(num2))]\n",
    "        for i in range(len(num1)):\n",
    "            for j in range(len(num2)):\n",
    "                arr[i+j] += int(num1[i]) * int(num2[j])\n",
    "        ans = []\n",
    "        for i in range(len(arr)):\n",
    "            digit = arr[i] % 10\n",
    "            carry = arr[i] // 10\n",
    "            if i < len(arr)-1:\n",
    "                arr[i+1] += carry#这个就是进位\n",
    "            ans.insert(0, str(digit))#反向插入到ans的第一位\n",
    "        while ans[0] == '0' and len(ans) > 1:#如果最后结果是0开头,见上面分析\n",
    "            del ans[0]\n",
    "        return ''.join(ans)"
   ]
  }
 ],
 "metadata": {
  "kernelspec": {
   "display_name": "Python 3",
   "language": "python",
   "name": "python3"
  },
  "language_info": {
   "codemirror_mode": {
    "name": "ipython",
    "version": 3
   },
   "file_extension": ".py",
   "mimetype": "text/x-python",
   "name": "python",
   "nbconvert_exporter": "python",
   "pygments_lexer": "ipython3",
   "version": "3.6.7"
  }
 },
 "nbformat": 4,
 "nbformat_minor": 2
}
