{
 "cells": [
  {
   "cell_type": "code",
   "execution_count": 1,
   "metadata": {},
   "outputs": [],
   "source": [
    "class Solution(object):\n",
    "    def isValid(self, s):\n",
    "        \"\"\"\n",
    "        :type s: str\n",
    "        :rtype: bool\n",
    "        \"\"\"\n",
    "        pars = [None]\n",
    "        parmap = {')': '(', '}': '{', ']': '['}\n",
    "        for c in s:\n",
    "            if c in parmap and parmap[c] == pars[len(pars)-1]:\n",
    "                pars.pop()\n",
    "            else:\n",
    "                pars.append(c)\n",
    "        return len(pars) == 1"
   ]
  },
  {
   "cell_type": "markdown",
   "metadata": {},
   "source": [
    "用栈来操作，将所有的字符依次入栈，当栈顶的括号和正要入栈的括号匹配时将栈顶的括号弹出且不入栈，否则入栈新的括号。最后，只有当栈里没有括号时，才表明输入是有效的。"
   ]
  },
  {
   "cell_type": "code",
   "execution_count": 2,
   "metadata": {},
   "outputs": [],
   "source": [
    "class Solution(object):\n",
    "    def isValid(self, s):\n",
    "        \"\"\"\n",
    "        :type s: str\n",
    "        :rtype: bool\n",
    "        \"\"\"\n",
    "        pars = [None]\n",
    "        parmap = {')': '(', '}': '{', ']': '['}\n",
    "        for c in s:\n",
    "            if c in parmap:\n",
    "                if parmap[c] != pars.pop():\n",
    "                    return False\n",
    "            else:\n",
    "                pars.append(c)\n",
    "        return len(pars) == 1"
   ]
  },
  {
   "cell_type": "markdown",
   "metadata": {},
   "source": [
    "实际上，通过观察可以发现：如果正要入栈的是右括号，而栈顶元素不是能与之消去的相应左括号，那么该输入字符串一定是无效的。于是，可以大的加快判断过程。\n",
    "[@ref](https://blog.csdn.net/coder_orz/article/details/51697963)"
   ]
  }
 ],
 "metadata": {
  "kernelspec": {
   "display_name": "Python 3",
   "language": "python",
   "name": "python3"
  },
  "language_info": {
   "codemirror_mode": {
    "name": "ipython",
    "version": 3
   },
   "file_extension": ".py",
   "mimetype": "text/x-python",
   "name": "python",
   "nbconvert_exporter": "python",
   "pygments_lexer": "ipython3",
   "version": "3.6.7"
  }
 },
 "nbformat": 4,
 "nbformat_minor": 2
}
