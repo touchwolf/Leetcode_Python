{
 "cells": [
  {
   "cell_type": "code",
   "execution_count": 1,
   "metadata": {},
   "outputs": [],
   "source": [
    "class Solution:\n",
    "    def longestCommonPrefix(self, strs):\n",
    "        \"\"\"\n",
    "        :type strs: List[str]\n",
    "        :rtype: str\n",
    "        \"\"\"\n",
    "        cop = \"\"\n",
    "        if not strs:\n",
    "            return cop\n",
    "        elif len(strs)==1:\n",
    "            return strs[0] \n",
    "        len_str = min(len(i) for i in strs)\n",
    "        len_strs = len(strs)\n",
    "\n",
    "        for i in range(len_str):\n",
    "            tmp = strs[0][i]\n",
    "            for j in range(len_strs):\n",
    "                flag = (tmp ==  strs[j][i])\n",
    "            if flag:\n",
    "                cop += tmp\n",
    "            else:\n",
    "                return cop"
   ]
  },
  {
   "cell_type": "code",
   "execution_count": 2,
   "metadata": {},
   "outputs": [],
   "source": [
    "class Solution:\n",
    "    def longestCommonPrefix(self, strs):\n",
    "        \"\"\"\n",
    "        :type strs: List[str]\n",
    "        :rtype: str\n",
    "        \"\"\"\n",
    "        cop = \"\"\n",
    "        if not strs:\n",
    "            return \"\"\n",
    "\n",
    "        len_str = min(len(i) for i in strs)\n",
    "        len_strs = len(strs)\n",
    "\n",
    "        for i in range(len_str):\n",
    "            for j in range(len_strs):\n",
    "                if len(strs[j]) <= i or strs[0][i] !=  strs[j][i]:\n",
    "                    return cop\n",
    "            cop += strs[0][i]\n",
    "        return cop#最后一句要加上，否则无输出"
   ]
  },
  {
   "cell_type": "code",
   "execution_count": 3,
   "metadata": {},
   "outputs": [],
   "source": [
    "class Solution:\n",
    "    def longestCommonPrefix(self, strs):\n",
    "        \"\"\"\n",
    "        :type strs: List[str]\n",
    "        :rtype: str\n",
    "        \"\"\"\n",
    "        cop = \"\"\n",
    "        if not strs:\n",
    "            return \"\"\n",
    "\n",
    "        len_str = min(len(i) for i in strs)\n",
    "        len_strs = len(strs)\n",
    "\n",
    "        for i in range(len_str):\n",
    "            for j in range(len_strs):\n",
    "                if strs[0][i] !=  strs[j][i]:\n",
    "                    return cop\n",
    "            cop += strs[0][i]\n",
    "        return cop# 52 ms"
   ]
  }
 ],
 "metadata": {
  "kernelspec": {
   "display_name": "Python 3",
   "language": "python",
   "name": "python3"
  },
  "language_info": {
   "codemirror_mode": {
    "name": "ipython",
    "version": 3
   },
   "file_extension": ".py",
   "mimetype": "text/x-python",
   "name": "python",
   "nbconvert_exporter": "python",
   "pygments_lexer": "ipython3",
   "version": "3.6.7"
  }
 },
 "nbformat": 4,
 "nbformat_minor": 2
}
