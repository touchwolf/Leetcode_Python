{
 "cells": [
  {
   "cell_type": "markdown",
   "metadata": {},
   "source": [
    "* 学习使用迭代 动态规划(DP) 考虑使程序不TLE(Time Limit Exceeded)\n",
    "* DFS BFS 使用"
   ]
  },
  {
   "cell_type": "markdown",
   "metadata": {},
   "source": [
    "### 分析\n",
    "\n",
    "* \\*  指\\*号之前的字符数量可以为0个、1个、多个\n",
    "* . 可以代替任意的字符\n",
    "\n",
    "### 迭代算法\n",
    "\n",
    "> 当pattern中第二个字符不是“\\*”时\n",
    ">* 如果string中的第一个字符和pattern中的第一个字符匹配，s和p都往后移动一个字符，匹配剩余的\n",
    ">* 如果s和p的第一个字符不匹配，直接返回False\n",
    "\n",
    "> 当pattern中第二个字符是“\\*”时\n",
    ">* 如果s和p中的第一个字符不匹配，p后移两个字符继续匹配（\\*可能代表字符数量为0个）\n",
    ">* 如果s和p中的第一个字符匹配，有三种匹配方式:\n",
    "> #### 1. p后移2字符（\\*代表0个字符）\n",
    "> #### 2. s后移1字符，p后移2字符（\\*代表1个字符）\n",
    "> #### 3. s后移1字符，p不变（\\*代表多个字符）"
   ]
  },
  {
   "cell_type": "code",
   "execution_count": 1,
   "metadata": {},
   "outputs": [],
   "source": [
    "class Solution(object):\n",
    "    def isMatch(self, s, p):\n",
    "        \"\"\"\n",
    "        :type s: str\n",
    "        :type p: str\n",
    "        :rtype: bool\n",
    "        \"\"\"\n",
    "        if not s and not p:\n",
    "            return True\n",
    "        if not p:\n",
    "            return False\n",
    "        if len(p) > 1 and p[1] == \"*\":\n",
    "            if s and (s[0] == p[0] or p[0] == \".\"):\n",
    "                return self.isMatch(s, p[2:]) or self.isMatch(s[1:],p[2:]) or self.isMatch(s[1:], p)\n",
    "            else:\n",
    "                return self.isMatch(s, p[2:])\n",
    "        if s and (p[0] == \".\" or p[0] == s[0]):\n",
    "            return self.isMatch(s[1:], p[1:])\n",
    "        return False\n",
    "    #Time Limit Exceeded"
   ]
  },
  {
   "cell_type": "code",
   "execution_count": 3,
   "metadata": {},
   "outputs": [],
   "source": [
    "class Solution:\n",
    "    # @return a boolean\n",
    "    def isMatch(self, s, p):\n",
    "        if len(p)==0: return len(s)==0\n",
    "        if len(p)==1 or p[1]!='*':\n",
    "            if len(s)==0 or (s[0]!=p[0] and p[0]!='.'):\n",
    "                return False\n",
    "            return self.isMatch(s[1:],p[1:])\n",
    "        else:\n",
    "            i=-1; length=len(s)\n",
    "            while i<length and (i<0 or p[0]=='.' or p[0]==s[i]):\n",
    "                if self.isMatch(s[i+1:],p[2:]): return True\n",
    "                i+=1\n",
    "            return False\n",
    "        #1800+ms\n",
    "        #没有理解本段代码 https://www.cnblogs.com/zuoyuan/p/3781773.html"
   ]
  },
  {
   "cell_type": "markdown",
   "metadata": {},
   "source": [
    "#### 使用动态规划求解[@basketwangCoding](https://www.youtube.com/watch?v=DqhPJ8MzDKM)\n",
    "i is martix index, to get char, we should use i-1 in string and pattern  \n",
    "In martix, column is pattern, row is string"
   ]
  },
  {
   "cell_type": "code",
   "execution_count": 3,
   "metadata": {},
   "outputs": [],
   "source": [
    "class Solution(object):\n",
    "    def isMatch(self, string, pattern):\n",
    "        if string == None or pattern == None: return False\n",
    "        lens = len(string)\n",
    "        lenp = len(pattern)\n",
    "        match = [[False for col in range(lenp+1)] for row in range(lens+1)]\n",
    "        match[0][0] = True\n",
    "        \n",
    "        for j in range(1,lenp+1):#program init\n",
    "            if pattern[j-1] == '*':\n",
    "                match[0][j]= match[0][j-2]\n",
    "        for i in range(1,lens+1):\n",
    "            for j in range(1,lenp+1):\n",
    "                if pattern[j-1] == '.' or pattern[j-1]==string[i-1]:\n",
    "                    match[i][j] = match[i-1][j-1]\n",
    "                elif pattern[j-1] == '*':\n",
    "                    if pattern[j-2] == string[i-1] or pattern[j-2] =='.':\n",
    "                        match[i][j] = match[i][j-2] or match[i-1][j]\n",
    "                    else:\n",
    "                        match [i][j] = match[i][j-2]\n",
    "        return match[lens][lenp]\n",
    "    #80ms"
   ]
  },
  {
   "cell_type": "code",
   "execution_count": null,
   "metadata": {},
   "outputs": [],
   "source": [
    "class Solution(object):\n",
    "    def isMatch(self, string, pattern):\n",
    "        if string == None or pattern == None: return False\n",
    "        lens = len(string)\n",
    "        lenp = len(pattern)\n",
    "        match = [[False for col in range(lens+1)] for row in range(lenp+1)]\n",
    "        match[0][0] = True\n",
    "        \n",
    "        for i in range(1,lenp+1):#program init\n",
    "            if pattern[i-1] == '*':\n",
    "                match[i][0]= match[i-2][0]\n",
    "        for i in range(1,lenp+1):\n",
    "            for j in range(1,lens+1):\n",
    "                if pattern[i-1] == '.' or pattern[i-1]==string[j-1]:\n",
    "                    match[i][j] = match[i-1][j-1]\n",
    "                elif pattern[i-1] == '*':\n",
    "                    if pattern[i-2] == string[j-1] or pattern[i-2] =='.':\n",
    "                        match[i][j] = match[i-2][j] or match[i][j-1]\n",
    "                    else:\n",
    "                        match [i][j] = match[i-2][j]\n",
    "        return match[lenp][lens]\n",
    "    #更改了s 和 p 在martix中的位置，更容易理解视频讲解"
   ]
  }
 ],
 "metadata": {
  "kernelspec": {
   "display_name": "Python 3",
   "language": "python",
   "name": "python3"
  },
  "language_info": {
   "codemirror_mode": {
    "name": "ipython",
    "version": 3
   },
   "file_extension": ".py",
   "mimetype": "text/x-python",
   "name": "python",
   "nbconvert_exporter": "python",
   "pygments_lexer": "ipython3",
   "version": "3.6.4"
  }
 },
 "nbformat": 4,
 "nbformat_minor": 2
}
