{
 "cells": [
  {
   "cell_type": "markdown",
   "metadata": {},
   "source": [
    "二分查找的变种，进行加和减操作"
   ]
  },
  {
   "cell_type": "code",
   "execution_count": 1,
   "metadata": {},
   "outputs": [],
   "source": [
    "class Solution(object):\n",
    "    def divide(self, dividend, divisor):\n",
    "        \"\"\"\n",
    "        :type dividend: int\n",
    "        :type divisor: int\n",
    "        :rtype: int\n",
    "        \"\"\"\n",
    "        sign = 1\n",
    "        if (dividend > 0 and divisor < 0) or (dividend < 0 and divisor > 0):\n",
    "            sign = -1\n",
    "            if abs(dividend) < abs(divisor):\n",
    "                return 0\n",
    "        res = 0\n",
    "        a = abs(dividend)\n",
    "        b = abs(divisor)\n",
    "        sum= 0\n",
    "        count = 0\n",
    "        while a >= b:\n",
    "            sum = b\n",
    "            count = 1\n",
    "            while sum + sum <= a:\n",
    "                sum += sum\n",
    "                count += count\n",
    "            a -= sum\n",
    "            res += count\n",
    "        if sign == -1:\n",
    "            res = 0 - res\n",
    "        if res >= pow(2, 31)-1 and sign == 1: return pow(2, 31) - 1\n",
    "        if res >= pow(2, 31) and sign == -1: return -pow(2, 31)\n",
    "        return res"
   ]
  },
  {
   "cell_type": "markdown",
   "metadata": {},
   "source": [
    "42ms[解法](https://blog.csdn.net/nxhyd/article/details/72539880)"
   ]
  },
  {
   "cell_type": "code",
   "execution_count": 1,
   "metadata": {},
   "outputs": [],
   "source": [
    "class Solution(object):\n",
    "    def divide(self, dividend, divisor):\n",
    "        \"\"\"\n",
    "        :type dividend: int\n",
    "        :type divisor: int\n",
    "        :rtype: int\n",
    "        \"\"\"\n",
    "        neg = (dividend >= 0) ^ (divisor >= 0)\n",
    "        dividend, divisor = abs(dividend), abs(divisor)\n",
    "\n",
    "        pos, base = 1, divisor \n",
    "        while base <= dividend:\n",
    "            pos <<= 1\n",
    "            base <<= 1\n",
    "\n",
    "        base >>= 1\n",
    "        pos >>= 1\n",
    "\n",
    "        res = 0\n",
    "        while pos > 0:\n",
    "            if base <= dividend:\n",
    "                res += pos\n",
    "                dividend -= base\n",
    "            base >>= 1\n",
    "            pos >>= 1\n",
    "        val = -res if neg else res\n",
    "        return 2 ** 31 -1 if val > 2 ** 31 -1 else val"
   ]
  }
 ],
 "metadata": {
  "kernelspec": {
   "display_name": "Python 3",
   "language": "python",
   "name": "python3"
  },
  "language_info": {
   "codemirror_mode": {
    "name": "ipython",
    "version": 3
   },
   "file_extension": ".py",
   "mimetype": "text/x-python",
   "name": "python",
   "nbconvert_exporter": "python",
   "pygments_lexer": "ipython3",
   "version": "3.6.7"
  }
 },
 "nbformat": 4,
 "nbformat_minor": 2
}
