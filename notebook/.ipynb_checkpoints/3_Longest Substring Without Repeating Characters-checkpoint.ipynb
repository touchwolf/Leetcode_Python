{
 "cells": [
  {
   "cell_type": "code",
   "execution_count": 8,
   "metadata": {},
   "outputs": [],
   "source": [
    "#滑动窗口方法\n",
    "class Soulution:\n",
    "    def lengthOfLongestSubstring(self,s):\n",
    "        length = 0\n",
    "        char_set = set()\n",
    "        start = end =0\n",
    "        while start < len(s) and end < len(s):\n",
    "            if s[end] in char_set:\n",
    "                length = max(length,end - start)\n",
    "                char_set.remove(s[start])\n",
    "                start += 1\n",
    "            else:\n",
    "                char_set.add(s[end])\n",
    "                end += 1\n",
    "        return max(length,end - start)"
   ]
  },
  {
   "cell_type": "code",
   "execution_count": 4,
   "metadata": {},
   "outputs": [
    {
     "name": "stdout",
     "output_type": "stream",
     "text": [
      "{'r', 'm', 'u', ' ', 'n', 'g', 'i', 'a'} {'e', 'c', 'h', ' ', 'n', 'g', 'D', 'a', 'o'}\n"
     ]
    },
    {
     "data": {
      "text/plain": [
       "{'i', 'm', 'r', 'u'}"
      ]
     },
     "execution_count": 4,
     "metadata": {},
     "output_type": "execute_result"
    }
   ],
   "source": [
    "#优化的滑动窗口方法\n",
    "class Solution:\n",
    "    def lengthOfLongestSubstring(self,s):\n",
    "        start = len_max =0\n",
    "        char_dict = {}\n",
    "        for i in range(len(s)):\n",
    "            if s[i] in char_dict and start <= char_dict[s[i]]:\n",
    "                start = char_dict[s[i]] + 1\n",
    "            else:\n",
    "                len_max = max(len_max,i - start + 1)\n",
    "            char_dict[s[i]] = i\n",
    "            #字符到下标反向索引\n",
    "        return len_max"
   ]
  },
  {
   "cell_type": "markdown",
   "metadata": {},
   "source": [
    "以上out为set的试验"
   ]
  },
  {
   "cell_type": "code",
   "execution_count": null,
   "metadata": {},
   "outputs": [],
   "source": []
  }
 ],
 "metadata": {
  "kernelspec": {
   "display_name": "Python 3",
   "language": "python",
   "name": "python3"
  },
  "language_info": {
   "codemirror_mode": {
    "name": "ipython",
    "version": 3
   },
   "file_extension": ".py",
   "mimetype": "text/x-python",
   "name": "python",
   "nbconvert_exporter": "python",
   "pygments_lexer": "ipython3",
   "version": "3.6.4"
  }
 },
 "nbformat": 4,
 "nbformat_minor": 2
}
