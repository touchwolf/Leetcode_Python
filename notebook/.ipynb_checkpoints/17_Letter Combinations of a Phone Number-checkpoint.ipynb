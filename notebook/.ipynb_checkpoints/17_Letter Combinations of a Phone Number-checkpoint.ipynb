{
 "cells": [
  {
   "cell_type": "code",
   "execution_count": 1,
   "metadata": {},
   "outputs": [],
   "source": [
    "class Solution(object):\n",
    "    def letterCombinations(self, digits):\n",
    "        \"\"\"\n",
    "        :type digits: str\n",
    "        :rtype: List[str]\n",
    "        \"\"\"\n",
    "        if digits == '':\n",
    "            return []\n",
    "        self.DigitDict=[' ','1', \"abc\", \"def\", \"ghi\", \"jkl\", \"mno\", \"pqrs\", \"tuv\", \"wxyz\"]\n",
    "        res = ['']\n",
    "        for d in digits:\n",
    "            res = self.letterCombBT(int(d),res)\n",
    "        return res\n",
    "\n",
    "    def letterCombBT(self, digit, oldStrList):\n",
    "        return [dstr+i for i in self.DigitDict[digit] for dstr in oldStrList]\n",
    "#使用一行递归"
   ]
  },
  {
   "cell_type": "code",
   "execution_count": 2,
   "metadata": {},
   "outputs": [],
   "source": [
    "class Solution(object):\n",
    "    def addDigit(self,digit,ans):\n",
    "        tmp = []\n",
    "        for element in digit:\n",
    "            if len(ans) == 0:\n",
    "                tmp.append(element)\n",
    "            for s in ans:\n",
    "                tmp.append(s + element)\n",
    "        return tmp\n",
    "    def letterCombinations(self, digits):\n",
    "        \"\"\"\n",
    "        :type digits: str\n",
    "        :rtype: List[str]\n",
    "        \"\"\"\n",
    "        ans = []\n",
    "        d = {'0':' ','1':'*','2':'abc','3':'def','4':'ghi','5':'jkl','6':'mno','7':'pqrs','8':'tuv','9':'wxyz'}\n",
    "        for element in digits:\n",
    "            ans = self.addDigit(d[element],ans)\n",
    "        return ans"
   ]
  },
  {
   "cell_type": "markdown",
   "metadata": {},
   "source": [
    "# 题目思路：\n",
    "\n",
    "      看到这道题目让想起了向量的笛卡尔乘积。这道题目可以用类似DP的方法去解决。\n",
    "      dp[n] = dp[n -1]X最后一个字符对应的字符串，其中\"X\"代表内积，\n",
    "      也就是说f(\"123\") = f(\"1\") X f(\"2\") X f(\"3\").首先建立一个字典，\n",
    "      d = {'0':' ','1':'*','2':'abc','3':'def','4':'ghi','5':'jkl','6':'mno','7':'pqrs','8':'tuv','9':'wxyz'}；\n",
    "  [@作者](https://www.cnblogs.com/chruny/p/4835631.html)"
   ]
  }
 ],
 "metadata": {
  "kernelspec": {
   "display_name": "Python 3",
   "language": "python",
   "name": "python3"
  },
  "language_info": {
   "codemirror_mode": {
    "name": "ipython",
    "version": 3
   },
   "file_extension": ".py",
   "mimetype": "text/x-python",
   "name": "python",
   "nbconvert_exporter": "python",
   "pygments_lexer": "ipython3",
   "version": "3.6.7"
  }
 },
 "nbformat": 4,
 "nbformat_minor": 2
}
