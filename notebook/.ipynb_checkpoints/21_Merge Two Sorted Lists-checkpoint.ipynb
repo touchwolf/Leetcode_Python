{
 "cells": [
  {
   "cell_type": "markdown",
   "metadata": {},
   "source": [
    "链表有头结点和尾结点，头指针指向的为第一个存放指针和数据的结点（头结点）（单链表可以用头指针的名字来命名）\n",
    "可以使用直接合并&递归两种方式[递归,只需考虑好边界条件和时间复杂度](https://www.youtube.com/watch?v=qckKEYP9bBA&list=PLLuMmzMTgVK6a-2aAwPieEIIuIJY6JTSq)"
   ]
  },
  {
   "cell_type": "code",
   "execution_count": null,
   "metadata": {},
   "outputs": [],
   "source": [
    "# Definition for singly-linked list.\n",
    "# class ListNode:\n",
    "#     def __init__(self, x):\n",
    "#         self.val = x\n",
    "#         self.next = None\n",
    "\n",
    "class Solution:\n",
    "    def mergeTwoLists(self, l1, l2):\n",
    "        \"\"\"\n",
    "        :type l1: ListNode\n",
    "        :type l2: ListNode\n",
    "        :rtype: ListNode\n",
    "        \"\"\"\n",
    "        if not l1 and not l2: return\n",
    "        result = ListNode(0)\n",
    "        l = result#l作为头指针在之后的操作中会发生变化，故最终返回初始化后的头指针指向的头结点\n",
    "        while l1 and l2:\n",
    "            if l1.val < l2.val:\n",
    "                l.next = l1\n",
    "                l1 = l1.next\n",
    "            else:\n",
    "                l.next = l2\n",
    "                l2 = l2.next\n",
    "            #融合后链表的下一位,当前位置刚刚赋值\n",
    "            l = l.next\n",
    "        #把剩余的链表排在后面\n",
    "        l.next = l1 or l2  \n",
    "        # 等价于l.next = l1 if l1 is not None else l2\n",
    "        return result.next"
   ]
  },
  {
   "cell_type": "code",
   "execution_count": 9,
   "metadata": {},
   "outputs": [],
   "source": [
    "# Definition for singly-linked list.\n",
    "# class ListNode:\n",
    "#     def __init__(self, x):\n",
    "#         self.val = x\n",
    "#         self.next = None\n",
    "\n",
    "class Solution:\n",
    "    def mergeTwoLists(self, l1, l2):\n",
    "        \"\"\"\n",
    "        :type l1: ListNode\n",
    "        :type l2: ListNode\n",
    "        :rtype: ListNode\n",
    "        \"\"\"\n",
    "        #Recursive\n",
    "        if(not l1 or not l2): return l1 if l1 else l2\n",
    "        if (l1.val < l2.val):\n",
    "            l1.next = mergeTwoLists(l1.next, l2)\n",
    "            return l1\n",
    "        else:\n",
    "            l2.next = mergeTwoLists(l1, l2.next)\n",
    "            return l2\n",
    "        #提交出错"
   ]
  },
  {
   "cell_type": "code",
   "execution_count": null,
   "metadata": {},
   "outputs": [],
   "source": [
    "/**\n",
    " * Definition for singly-linked list.\n",
    " * struct ListNode {\n",
    " *     int val;\n",
    " *     ListNode *next;\n",
    " *     ListNode(int x) : val(x), next(NULL) {}\n",
    " * };\n",
    " */\n",
    "class Solution {\n",
    "public:\n",
    "    ListNode* mergeTwoLists(ListNode* l1, ListNode* l2) {\n",
    "        if(!l1 || !l2) return l1 ? l1:l2;\n",
    "        if(l1->val < l2->val){\n",
    "            l1->next = mergeTwoLists(l1->next,l2);\n",
    "            return l1;\n",
    "        }\n",
    "        else{\n",
    "            l2->next = mergeTwoLists(l1,l2->next);\n",
    "            return l2;\n",
    "        }\n",
    "    }\n",
    "};\n",
    "//采用C++的递归方式做可以"
   ]
  },
  {
   "cell_type": "markdown",
   "metadata": {},
   "source": [
    "Tips:[链表反转的方法]（https://www.bilibili.com/video/av24376909?from=search&seid=707516669024701791）"
   ]
  },
  {
   "cell_type": "code",
   "execution_count": 4,
   "metadata": {},
   "outputs": [],
   "source": [
    "# Definition for singly-linked list.\n",
    "# class ListNode:\n",
    "#     def __init__(self, x):\n",
    "#         self.val = x\n",
    "#         self.next = None\n",
    "def rev(self):\n",
    "    p = None\n",
    "    while self.head:\n",
    "        q = self.head\n",
    "        self.head = q.next\n",
    "        q.next = p\n",
    "        p = q\n",
    "    self.head = p"
   ]
  }
 ],
 "metadata": {
  "kernelspec": {
   "display_name": "Python 3",
   "language": "python",
   "name": "python3"
  },
  "language_info": {
   "codemirror_mode": {
    "name": "ipython",
    "version": 3
   },
   "file_extension": ".py",
   "mimetype": "text/x-python",
   "name": "python",
   "nbconvert_exporter": "python",
   "pygments_lexer": "ipython3",
   "version": "3.6.7"
  }
 },
 "nbformat": 4,
 "nbformat_minor": 2
}
