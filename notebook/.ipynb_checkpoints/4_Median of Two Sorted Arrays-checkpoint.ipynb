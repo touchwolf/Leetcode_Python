{
 "cells": [
  {
   "cell_type": "markdown",
   "metadata": {},
   "source": [
    "对于一个长度为n的已排序数列a，若n为奇数，中位数为a[n / 2 + 1] , \n",
    "    若n为偶数，则中位数(a[n / 2] + a[n / 2 + 1]) / 2\n",
    "    如果我们可以在两个数列中求出第K小的元素，便可以解决该问题\n",
    "    不妨设数列A元素个数为n，数列B元素个数为m，各自升序排序，求第k小元素\n",
    "    取A[k / 2] B[k / 2] 比较，\n",
    "    如果 A[k / 2] > B[k / 2] 那么，所求的元素必然不在B的前k / 2个元素中(证明反证法)\n",
    "    反之，必然不在A的前k / 2个元素中，于是我们可以将A或B数列的前k / 2元素删去，求剩下两个数列的\n",
    "    k - k / 2小元素，于是得到了数据规模变小的同类问题，递归解决\n",
    "    如果 k / 2 大于某数列个数，所求元素必然不在另一数列的前k / 2个元素中，同上操作就好。\n",
    "--------------------- \n",
    "作者：知之可否 \n",
    "来源：CSDN \n",
    "原文：https://blog.csdn.net/gao1440156051/article/details/51725845 \n",
    "版权声明：本文为博主原创文章，转载请附上博文链接！"
   ]
  },
  {
   "cell_type": "code",
   "execution_count": 4,
   "metadata": {},
   "outputs": [],
   "source": [
    "class Solution(object):\n",
    "    def getKth(self,A,B,k):\n",
    "        len_a,len_b = len(A),len(B)\n",
    "        if len_a > len_b:\n",
    "            return self.getKth(B,A,k)\n",
    "        if len_a == 0:\n",
    "            return B[k-1]\n",
    "        if k == 1:\n",
    "            return min(A[0],B[0])\n",
    "        tmp_a = min(k/2 ,len_a)#防止a数组长度太小\n",
    "        tmp_b = k - tmp_a\n",
    "        if A[tmp_a - 1] < B[tmp_b - 1]:\n",
    "            return self.getKth(A[tmp_a:],B,k-tmp_a)\n",
    "        else:\n",
    "            return self.getKth(A,B[tmp_b:],k-tmp_b)\n",
    "    def findMedianSortedArrays(self,nums1,nums2):\n",
    "        \"\"\"\n",
    "        type nums1 : List[int]\n",
    "        type nums2 : List[int]\n",
    "        rtype : float\n",
    "        \"\"\"\n",
    "        if not nums1 and not nums2:\n",
    "            return None\n",
    "        n = len(nums1) + len(nums2)\n",
    "        if n % 2 ==1:\n",
    "            return self.getKth(nums1,nums2,n / 2 + 1)\n",
    "        else:\n",
    "            return 0.5*(self.getKth(nums1,nums2,n / 2) + self.getKth(nums1,nums2,n / 2 + 1))"
   ]
  },
  {
   "cell_type": "markdown",
   "metadata": {},
   "source": [
    "ref[Anwser](http://www.voidcn.com/article/p-hqjueegu-mm.html) \n",
    "\n",
    "--- \n",
    "算法核心是二分法"
   ]
  },
  {
   "cell_type": "markdown",
   "metadata": {},
   "source": [
    "# Tips:实际提交时出现异常 \n",
    "> TypeError: list indices must be integers or slices, not float\n",
    "## 检测后发现代码中的 n/2 运行结果为浮点数，改为 n//2获取整型"
   ]
  },
  {
   "cell_type": "code",
   "execution_count": null,
   "metadata": {},
   "outputs": [],
   "source": []
  }
 ],
 "metadata": {
  "kernelspec": {
   "display_name": "Python 3",
   "language": "python",
   "name": "python3"
  },
  "language_info": {
   "codemirror_mode": {
    "name": "ipython",
    "version": 3
   },
   "file_extension": ".py",
   "mimetype": "text/x-python",
   "name": "python",
   "nbconvert_exporter": "python",
   "pygments_lexer": "ipython3",
   "version": "3.6.4"
  }
 },
 "nbformat": 4,
 "nbformat_minor": 2
}
