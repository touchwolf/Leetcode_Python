{
 "cells": [
  {
   "cell_type": "markdown",
   "metadata": {},
   "source": [
    "题目中提到算法时间复杂度log(n), 自然想起二分查找适用"
   ]
  },
  {
   "cell_type": "code",
   "execution_count": 1,
   "metadata": {},
   "outputs": [],
   "source": [
    "class Solution:\n",
    "    def search(self, nums, target):\n",
    "        \"\"\"\n",
    "        :type nums: List[int]\n",
    "        :type target: int\n",
    "        :rtype: int\n",
    "        \"\"\"\n",
    "        left, right = 0 ,len(nums)-1\n",
    "        while(left<=right):# '='边界条件\n",
    "            mid = left + (right - left)//2\n",
    "            if(nums[mid] == target): return mid\n",
    "            elif(nums[mid] < nums[right]):\n",
    "                if(nums[mid]<target and target<=nums[right]): left = mid +1# '='边界条件\n",
    "                else: right = mid -1\n",
    "            else:\n",
    "                if(nums[left] <= target and target < nums[mid]): right = mid -1# '='边界条件\n",
    "                else: left = mid +1\n",
    "        return -1"
   ]
  },
  {
   "cell_type": "code",
   "execution_count": null,
   "metadata": {},
   "outputs": [],
   "source": []
  }
 ],
 "metadata": {
  "kernelspec": {
   "display_name": "Python 3",
   "language": "python",
   "name": "python3"
  },
  "language_info": {
   "codemirror_mode": {
    "name": "ipython",
    "version": 3
   },
   "file_extension": ".py",
   "mimetype": "text/x-python",
   "name": "python",
   "nbconvert_exporter": "python",
   "pygments_lexer": "ipython3",
   "version": "3.6.7"
  }
 },
 "nbformat": 4,
 "nbformat_minor": 2
}
