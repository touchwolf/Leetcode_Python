{
 "cells": [
  {
   "cell_type": "code",
   "execution_count": 1,
   "metadata": {},
   "outputs": [],
   "source": [
    "class Solution:\n",
    "    def strStr(self, haystack, needle):\n",
    "        \"\"\"\n",
    "        :type haystack: str\n",
    "        :type needle: str\n",
    "        :rtype: int\n",
    "        \"\"\"\n",
    "        n = len(needle)\n",
    "        l = len(haystack)\n",
    "        if l==n==0 or n==0 : return 0\n",
    "        if l == 0 or l<n: return -1\n",
    "        i = 0\n",
    "        for i in range(l):\n",
    "            if(haystack[i:n+i]==needle):\n",
    "                return i\n",
    "        return -1"
   ]
  },
  {
   "cell_type": "markdown",
   "metadata": {},
   "source": [
    "brute force()的方式，即依次从字符串的每个位置开始，截取和子字符串相同长度的字符串，与给定的子字符串进行比较"
   ]
  },
  {
   "cell_type": "code",
   "execution_count": 3,
   "metadata": {},
   "outputs": [],
   "source": [
    "class Solution:\n",
    "    # @param haystack, a string\n",
    "    # @param needle, a string\n",
    "    # @return an integer\n",
    "    def strStr(self, haystack, needle):\n",
    "        \"\"\"\n",
    "        :type haystack: str\n",
    "        :type needle: str\n",
    "        :rtype: int\n",
    "        \"\"\" \n",
    "        for i in range(len(haystack)-len(needle)+1):\n",
    "            if haystack[i:i+len(needle)] == needle:\n",
    "                return i\n",
    "        return -1"
   ]
  },
  {
   "cell_type": "code",
   "execution_count": 4,
   "metadata": {},
   "outputs": [],
   "source": [
    "class Solution:\n",
    "    # @param haystack, a string\n",
    "    # @param needle, a string\n",
    "    # @return an integer\n",
    "    def strStr(self, haystack, needle):\n",
    "        i = 0\n",
    "        while i < len(haystack) - len(needle) + 1:\n",
    "            m,n = i,0\n",
    "            while n < len(needle) and haystack[m] == needle[n]:\n",
    "                m += 1\n",
    "                n += 1\n",
    "            if n == len(needle):\n",
    "                return i\n",
    "            i += 1\n",
    "        else:\n",
    "            return -1"
   ]
  }
 ],
 "metadata": {
  "kernelspec": {
   "display_name": "Python 3",
   "language": "python",
   "name": "python3"
  },
  "language_info": {
   "codemirror_mode": {
    "name": "ipython",
    "version": 3
   },
   "file_extension": ".py",
   "mimetype": "text/x-python",
   "name": "python",
   "nbconvert_exporter": "python",
   "pygments_lexer": "ipython3",
   "version": "3.6.7"
  }
 },
 "nbformat": 4,
 "nbformat_minor": 2
}
