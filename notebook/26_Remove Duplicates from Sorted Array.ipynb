{
 "cells": [
  {
   "cell_type": "markdown",
   "metadata": {},
   "source": [
    "双指针"
   ]
  },
  {
   "cell_type": "code",
   "execution_count": 1,
   "metadata": {},
   "outputs": [],
   "source": [
    "class Solution:\n",
    "    def removeDuplicates(self, nums):\n",
    "        \"\"\"\n",
    "        :type nums: List[int]\n",
    "        :rtype: int\n",
    "        \"\"\"\n",
    "        if len(nums)==0: return 0\n",
    "        pre = cur = 0\n",
    "        n = len(nums)\n",
    "        while(cur < n):\n",
    "            if(nums[pre]==nums[cur]): \n",
    "                cur += 1\n",
    "            else:\n",
    "                pre += 1\n",
    "                nums[pre] = nums[cur]\n",
    "                cur += 1\n",
    "        return pre+1"
   ]
  },
  {
   "cell_type": "code",
   "execution_count": null,
   "metadata": {},
   "outputs": [],
   "source": [
    "class Solution:\n",
    "    def removeDuplicates(self, nums):\n",
    "        \"\"\"\n",
    "        :type nums: List[int]\n",
    "        :rtype: int\n",
    "        \"\"\"\n",
    "        if len(nums)==0: return 0\n",
    "        pre = cur = 0\n",
    "        n = len(nums)\n",
    "        while(cur < n):\n",
    "            if(nums[pre]=nums[cur]): \n",
    "                cur += 1\n",
    "            else:\n",
    "                pre += 1\n",
    "                nums[pre] = nums[cur]\n",
    "                cur += 1\n",
    "        return pre+1"
   ]
  }
 ],
 "metadata": {
  "kernelspec": {
   "display_name": "Python 3",
   "language": "python",
   "name": "python3"
  },
  "language_info": {
   "codemirror_mode": {
    "name": "ipython",
    "version": 3
   },
   "file_extension": ".py",
   "mimetype": "text/x-python",
   "name": "python",
   "nbconvert_exporter": "python",
   "pygments_lexer": "ipython3",
   "version": "3.6.7"
  }
 },
 "nbformat": 4,
 "nbformat_minor": 2
}
