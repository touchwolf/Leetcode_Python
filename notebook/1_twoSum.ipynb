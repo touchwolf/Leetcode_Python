{
 "cells": [
  {
   "cell_type": "code",
   "execution_count": null,
   "metadata": {},
   "outputs": [],
   "source": [
    "class Solution:\n",
    "\tdef twoSum(self,num,target):\n",
    "\t\tdict={}\n",
    "\t\tfor i in range(len(num)):\n",
    "\t\t\tx=num[i]\n",
    "\t\t\tif target-x in dict:\n",
    "\t\t\t\treturn(dict[target-x]+1,i+1)\n",
    "\t\t\tdict[x]=i\n",
    "if __name__=='__main__':\n",
    "\tnum=[-3,4,3,90]\n",
    "\ttarget=0\n",
    "\tsolution=Solution()\n",
    "\tprint(solution.twoSum(num,target))\t"
   ]
  },
  {
   "cell_type": "code",
   "execution_count": 1,
   "metadata": {},
   "outputs": [
    {
     "name": "stdout",
     "output_type": "stream",
     "text": [
      "(1, 3)\n"
     ]
    }
   ],
   "source": [
    "class Solution:\n",
    "    def twoSum(self,num,target):\n",
    "        dict={}\n",
    "        for i in range(len(num)):\n",
    "            x=num[i]\n",
    "            if target-x in dict:\n",
    "                return(dict[target-x]+1,i+1)\n",
    "            dict[x]=i\n",
    "num=[-3,4,23,44]\n",
    "target=20\n",
    "solution=Solution()\n",
    "print(solution.twoSum(num,target))"
   ]
  }
 ],
 "metadata": {
  "kernelspec": {
   "display_name": "Python 3",
   "language": "python",
   "name": "python3"
  },
  "language_info": {
   "codemirror_mode": {
    "name": "ipython",
    "version": 3
   },
   "file_extension": ".py",
   "mimetype": "text/x-python",
   "name": "python",
   "nbconvert_exporter": "python",
   "pygments_lexer": "ipython3",
   "version": "3.6.4"
  }
 },
 "nbformat": 4,
 "nbformat_minor": 2
}
