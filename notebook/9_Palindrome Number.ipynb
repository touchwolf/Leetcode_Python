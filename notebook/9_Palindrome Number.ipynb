{
 "cells": [
  {
   "cell_type": "code",
   "execution_count": 1,
   "metadata": {},
   "outputs": [],
   "source": [
    "class Solution:\n",
    "    def isPalindrome(self, x):\n",
    "        \"\"\"\n",
    "        :type x: int\n",
    "        :rtype: bool\n",
    "        \"\"\"\n",
    "        x='%d'%x\n",
    "        flag = 0\n",
    "        if x[0] =='-':\n",
    "            flag = 1\n",
    "        x_len = len(x)\n",
    "        for i in range(x_len):\n",
    "            if x[i]==x[x_len-1-i]:\n",
    "                flag = 0\n",
    "            else:\n",
    "                flag = 1\n",
    "                break\n",
    "        return True if flag == 0 else False"
   ]
  },
  {
   "cell_type": "code",
   "execution_count": 3,
   "metadata": {},
   "outputs": [],
   "source": [
    "class Solution:\n",
    "    # @return a boolean\n",
    "    def isPalindrome(self, x):\n",
    "        n = str(x)\n",
    "        m = n[::-1]\n",
    "        return n == m"
   ]
  },
  {
   "cell_type": "markdown",
   "metadata": {},
   "source": [
    "> 数字反转在C++中可能会遇到溢出问题"
   ]
  },
  {
   "cell_type": "code",
   "execution_count": 4,
   "metadata": {},
   "outputs": [],
   "source": [
    "class Solution:\n",
    "    def isPalindrome(self, x):\n",
    "        \"\"\"\n",
    "        :type x: int\n",
    "        :rtype: bool\n",
    "        \"\"\"\n",
    "        new_number,ori_number = 0,x\n",
    "        if x < 0:\n",
    "            return False\n",
    "        else:\n",
    "            while x>0:\n",
    "                new_number = x%10 + 10*new_number\n",
    "                x = x//10\n",
    "            if new_number == ori_number:\n",
    "                return True\n",
    "            else:\n",
    "                return False"
   ]
  },
  {
   "cell_type": "markdown",
   "metadata": {},
   "source": [
    "> 下面是考虑数字后半部分翻转后 应该和前半部分相同的算法"
   ]
  },
  {
   "cell_type": "code",
   "execution_count": 5,
   "metadata": {},
   "outputs": [],
   "source": [
    "class Solution:\n",
    "    def isPalindrome(self, x):\n",
    "        \"\"\"\n",
    "        :type x: int\n",
    "        :rtype: bool\n",
    "        \"\"\"\n",
    "        new_number,ori_number = 0,x\n",
    "        if x < 0 or (x%10==0 and x!=0):\n",
    "            return False\n",
    "        else:\n",
    "            while x>new_number:\n",
    "                new_number = x%10 + 10*new_number\n",
    "                x = x//10\n",
    "        # 当数字长度为奇数时，我们可以通过 revertedNumber/10 去除处于中位的数字。\n",
    "        # 例如，当输入为 12321 时，在 while 循环的末尾我们可以得到 x = 12，revertedNumber = 123，\n",
    "        # 由于处于中位的数字不影响回文（它总是与自己相等），所以我们可以简单地将其去除。\n",
    "        return x==new_number or x ==new_number//10"
   ]
  },
  {
   "cell_type": "code",
   "execution_count": null,
   "metadata": {},
   "outputs": [],
   "source": []
  }
 ],
 "metadata": {
  "kernelspec": {
   "display_name": "Python 3",
   "language": "python",
   "name": "python3"
  },
  "language_info": {
   "codemirror_mode": {
    "name": "ipython",
    "version": 3
   },
   "file_extension": ".py",
   "mimetype": "text/x-python",
   "name": "python",
   "nbconvert_exporter": "python",
   "pygments_lexer": "ipython3",
   "version": "3.6.4"
  }
 },
 "nbformat": 4,
 "nbformat_minor": 2
}
