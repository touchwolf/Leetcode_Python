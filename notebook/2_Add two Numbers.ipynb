{
 "cells": [
  {
   "cell_type": "code",
   "execution_count": 7,
   "metadata": {},
   "outputs": [],
   "source": [
    "class ListNode(object):\n",
    "    def __init__(self,x):\n",
    "        self.val=x\n",
    "        self.next=None\n",
    "\n",
    "class Solution(object):\n",
    "    def addTwoNumbers(self,l1,l2):\n",
    "        head = p = ListNode(0)\n",
    "        #先定义一个头结点，在while中添加结点\n",
    "        carry = 0\n",
    "        while l1 or l2 or carry:\n",
    "            if l1:\n",
    "                carry += l1.val\n",
    "                l1 = l1.next\n",
    "            if l2:\n",
    "                carry += l2.val\n",
    "                l2 = l2.next\n",
    "            carry,val=divmod(carry,10)\n",
    "            p.next = p = ListNode(val)#与下列代码功能一样\n",
    "            #p.next = ListNode(val)\n",
    "            #p = p.next\n",
    "        return head.next"
   ]
  },
  {
   "cell_type": "code",
   "execution_count": 16,
   "metadata": {},
   "outputs": [
    {
     "name": "stdout",
     "output_type": "stream",
     "text": [
      "0\n"
     ]
    }
   ],
   "source": [
    "head = p =ListNode(0)\n",
    "p.next = p =ListNode(7)\n",
    "p.next = p = ListNode(0)\n",
    "print(head.next.next.val)"
   ]
  },
  {
   "cell_type": "code",
   "execution_count": 13,
   "metadata": {},
   "outputs": [
    {
     "name": "stdout",
     "output_type": "stream",
     "text": [
      "3 4 5\n"
     ]
    }
   ],
   "source": [
    "idx = ListNode(3)\n",
    "n = idx\n",
    "n.next = ListNode(4)\n",
    "n = n.next\n",
    "n.next = ListNode(5)\n",
    "n = n.next\n",
    "print(idx.val,idx.next.val,idx.next.next.val)"
   ]
  },
  {
   "cell_type": "markdown",
   "metadata": {},
   "source": [
    "详细说明链表：[Click](https://blog.csdn.net/weixin_37510517/article/details/55002318)  \n",
    "关于python的连续赋值[从左到右依次进栈](https://imliyan.com/blogs/article/Python%E8%BF%9E%E7%BB%AD%E8%B5%8B%E5%80%BC%E7%9A%84%E5%86%85%E9%83%A8%E5%8E%9F%E7%90%86/)  \n",
    "Answer：[Here](https://blog.csdn.net/fuxuemingzhu/article/details/79379626)  \n",
    "[最简洁的C++](https://blog.csdn.net/m0_37729309/article/details/78445342)"
   ]
  },
  {
   "cell_type": "code",
   "execution_count": null,
   "metadata": {},
   "outputs": [],
   "source": [
    "C++"
   ]
  },
  {
   "cell_type": "code",
   "execution_count": null,
   "metadata": {},
   "outputs": [],
   "source": [
    "\n",
    "class Solution {\n",
    "public:\n",
    "    ListNode *addTwoNumbers(ListNode *l1, ListNode *l2) {\n",
    "        ListNode *ret = new ListNode(0);\n",
    "        ListNode *cur = ret;\n",
    "        int sum = 0;\n",
    "        while (1) {\n",
    "            if (l1 != NULL) {\n",
    "                sum += l1->val;\n",
    "                l1 = l1->next;\n",
    "            }\n",
    "            if (l2 != NULL) {\n",
    "                sum += l2->val;\n",
    "                l2 = l2->next;\n",
    "            }\n",
    "            cur->val = sum % 10;\n",
    "            sum /= 10;\n",
    "            if (l1 != NULL || l2 != NULL || sum)\n",
    "                cur = (cur->next = new ListNode(0));======================================================如何理解\n",
    "            else\n",
    "                break;\n",
    "        }\n",
    "        return ret;\n",
    "    }\n",
    "\n",
    "--------------------- \n",
    "作者：hcbbt \n",
    "来源：CSDN \n",
    "原文：https://blog.csdn.net/hcbbt/article/details/43966461 \n",
    "版权声明：本文为博主原创文章，转载请附上博文链接！"
   ]
  }
 ],
 "metadata": {
  "kernelspec": {
   "display_name": "Python 3",
   "language": "python",
   "name": "python3"
  },
  "language_info": {
   "codemirror_mode": {
    "name": "ipython",
    "version": 3
   },
   "file_extension": ".py",
   "mimetype": "text/x-python",
   "name": "python",
   "nbconvert_exporter": "python",
   "pygments_lexer": "ipython3",
   "version": "3.6.4"
  }
 },
 "nbformat": 4,
 "nbformat_minor": 2
}
