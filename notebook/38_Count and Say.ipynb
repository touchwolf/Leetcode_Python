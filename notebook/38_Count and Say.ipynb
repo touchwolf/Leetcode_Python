{
 "cells": [
  {
   "cell_type": "markdown",
   "metadata": {},
   "source": [
    "其中第i+1个数的写法是对于第i个数的读法"
   ]
  },
  {
   "cell_type": "code",
   "execution_count": 1,
   "metadata": {},
   "outputs": [],
   "source": [
    "class Solution:\n",
    "    def countAndSay(self, n):\n",
    "        \"\"\"\n",
    "        :type n: int\n",
    "        :rtype: str\n",
    "        \"\"\"\n",
    "        s = '1'\n",
    "        for i in range(2,n+1):\n",
    "            s = self.count(s)\n",
    "        return s\n",
    "    def count(self,s):\n",
    "        t = ''; count = 0; curr = '#'\n",
    "        for i in s:\n",
    "            if i!= curr:\n",
    "                if curr != '#': ；#判断是否是字符串的第一个，第一次循环\n",
    "                    t += str(count) + curr#如果与前一个不同，就将之前的计数保存\n",
    "                count, curr = 1, i#每一次计数初始化操作\n",
    "            else:\n",
    "                count += 1\n",
    "        t += str(count) + curr\n",
    "        return t"
   ]
  }
 ],
 "metadata": {
  "kernelspec": {
   "display_name": "Python 3",
   "language": "python",
   "name": "python3"
  },
  "language_info": {
   "codemirror_mode": {
    "name": "ipython",
    "version": 3
   },
   "file_extension": ".py",
   "mimetype": "text/x-python",
   "name": "python",
   "nbconvert_exporter": "python",
   "pygments_lexer": "ipython3",
   "version": "3.6.7"
  }
 },
 "nbformat": 4,
 "nbformat_minor": 2
}
