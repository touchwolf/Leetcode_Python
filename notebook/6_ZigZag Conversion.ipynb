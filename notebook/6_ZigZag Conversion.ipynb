{
 "cells": [
  {
   "cell_type": "code",
   "execution_count": 1,
   "metadata": {},
   "outputs": [],
   "source": [
    "class Solution:\n",
    "    def convert(self,s,numRows):\n",
    "        \"\"\"\n",
    "        type s : str\n",
    "        type numRows : int\n",
    "        rtype : str\n",
    "        \"\"\"\n",
    "        if numRows == 1:\n",
    "            return s\n",
    "        zigzag = ['' for _ in range(numRows)]\n",
    "        row = 1#从第一行开始构造Z形\n",
    "        step = 1#下降或者上升的步数\n",
    "        for string in s :\n",
    "            if row == 1 :\n",
    "                step = 1#Z字到达顶端往下移动\n",
    "            if row == numRows :\n",
    "                step = -1#Z字到达低端往上移动\n",
    "            zigzag[row-1] += string\n",
    "            row += step#Z字产生的部分\n",
    "        return ''.join(zigzag)"
   ]
  },
  {
   "cell_type": "markdown",
   "metadata": {},
   "source": [
    "Z字的具体形式[参考](https://blog.csdn.net/ajiangfan/article/details/53584850?utm_source=blogxgwz2)"
   ]
  },
  {
   "cell_type": "code",
   "execution_count": null,
   "metadata": {},
   "outputs": [],
   "source": []
  }
 ],
 "metadata": {
  "kernelspec": {
   "display_name": "Python 3",
   "language": "python",
   "name": "python3"
  },
  "language_info": {
   "codemirror_mode": {
    "name": "ipython",
    "version": 3
   },
   "file_extension": ".py",
   "mimetype": "text/x-python",
   "name": "python",
   "nbconvert_exporter": "python",
   "pygments_lexer": "ipython3",
   "version": "3.6.4"
  }
 },
 "nbformat": 4,
 "nbformat_minor": 2
}
