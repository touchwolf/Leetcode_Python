{
 "cells": [
  {
   "cell_type": "markdown",
   "metadata": {},
   "source": [
    "暴力法满足题目条件"
   ]
  },
  {
   "cell_type": "code",
   "execution_count": 1,
   "metadata": {},
   "outputs": [],
   "source": [
    "class Solution:\n",
    "    def isValidSudoku(self, board):\n",
    "        \"\"\"\n",
    "        :type board: List[List[str]]\n",
    "        :rtype: bool\n",
    "        \"\"\"\n",
    "        for i in range(9):\n",
    "            if not self.isVaildSudo(board[i]):\n",
    "                return False\n",
    "            col = [c[i] for c in board]\n",
    "            if not self.isVaildSudo(col):\n",
    "                return False\n",
    "        for i in [0,3,6]: #该模块不要放在循环里，单独检测块即可\n",
    "            for j in [0,3,6]:\n",
    "                blocks = [board[s][t] for s in [i,i+1,i+2] for t in [j,j+1,j+2]]\n",
    "                if not self.isVaildSudo(blocks):\n",
    "                    return False\n",
    "        return True\n",
    "    def isVaildSudo(self,block):\n",
    "        map = {}\n",
    "        for c in block:\n",
    "            if c != '.':\n",
    "                if c in map:\n",
    "                    return False\n",
    "                else:\n",
    "                    map[c] = True\n",
    "        return True"
   ]
  },
  {
   "cell_type": "markdown",
   "metadata": {},
   "source": [
    "优化代码结构"
   ]
  },
  {
   "cell_type": "code",
   "execution_count": 2,
   "metadata": {},
   "outputs": [],
   "source": [
    "class Solution(object):\n",
    "    def isValidSudoku(self, board):\n",
    "        \"\"\"\n",
    "        :type board: List[List[str]]\n",
    "        :rtype: bool\n",
    "        \"\"\"\n",
    "        # 注意：这里不能用[[False]*9]*9来初始化，牵涉到深浅拷贝的问题\n",
    "        row = [[False for i in range(9)] for j in range(9)]\n",
    "        col = [[False for i in range(9)] for j in range(9)]\n",
    "        block = [[False for i in range(9)] for j in range(9)]\n",
    "        for i in range(9):\n",
    "            for j in range(9):\n",
    "                if board[i][j] != '.':\n",
    "                    num = int(board[i][j]) - 1\n",
    "                    k = i/3*3 + j/3\n",
    "                    if row[i][num] or col[j][num] or block[k][num]:\n",
    "                        return False\n",
    "                    row[i][num] = col[j][num] = block[k][num] = True\n",
    "        return True"
   ]
  }
 ],
 "metadata": {
  "kernelspec": {
   "display_name": "Python 3",
   "language": "python",
   "name": "python3"
  },
  "language_info": {
   "codemirror_mode": {
    "name": "ipython",
    "version": 3
   },
   "file_extension": ".py",
   "mimetype": "text/x-python",
   "name": "python",
   "nbconvert_exporter": "python",
   "pygments_lexer": "ipython3",
   "version": "3.6.7"
  }
 },
 "nbformat": 4,
 "nbformat_minor": 2
}
